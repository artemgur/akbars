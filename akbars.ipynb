{
  "nbformat": 4,
  "nbformat_minor": 5,
  "metadata": {
    "notebookPath": "akbars/akbars.ipynb",
    "language_info": {
      "file_extension": ".py",
      "version": "3.7.7",
      "mimetype": "text/x-python",
      "codemirror_mode": {
        "name": "ipython",
        "version": 3
      },
      "name": "python",
      "nbconvert_exporter": "python",
      "pygments_lexer": "ipython3"
    },
    "notebookId": "a5e7594e-6b13-492b-812c-c193a4b4b9da",
    "kernelspec": {
      "name": "python3",
      "display_name": "Yandex DataSphere Kernel",
      "language": "python"
    },
    "colab": {
      "name": "akbars.ipynb",
      "provenance": []
    }
  },
  "cells": [
    {
      "cell_type": "code",
      "source": [
        "%pip install openpyxl"
      ],
      "metadata": {
        "cellId": "ab9rclk2fpaek3wbq4o8s7",
        "trusted": true,
        "colab": {
          "base_uri": "https://localhost:8080/"
        },
        "id": "LPWfMXe86yUK",
        "outputId": "0e2b6010-79af-4687-e9e3-428f03327c85"
      },
      "outputs": [
        {
          "output_type": "stream",
          "name": "stdout",
          "text": [
            "Requirement already satisfied: openpyxl in /usr/local/lib/python3.7/dist-packages (2.5.9)\n",
            "Requirement already satisfied: et-xmlfile in /usr/local/lib/python3.7/dist-packages (from openpyxl) (1.1.0)\n",
            "Requirement already satisfied: jdcal in /usr/local/lib/python3.7/dist-packages (from openpyxl) (1.4.1)\n"
          ]
        }
      ],
      "execution_count": 1,
      "id": "LPWfMXe86yUK"
    },
    {
      "cell_type": "code",
      "source": [
        "import pandas as pd\n",
        "data = pd.read_excel('https://github.com/artemgur/akbars/raw/master/%D1%82%D0%B0%D0%B1%D0%BB%D0%B8%D1%86%D0%B0%203A.xlsx', engine='openpyxl')\n",
        "data.head()"
      ],
      "metadata": {
        "cellId": "8swnc0dhnq8y5wa7n298r",
        "trusted": true,
        "colab": {
          "base_uri": "https://localhost:8080/",
          "height": 417
        },
        "id": "DuTs354T6yUS",
        "outputId": "b3a32366-d745-4622-ca04-e2b77a3ee46d"
      },
      "outputs": [
        {
          "output_type": "execute_result",
          "data": {
            "text/html": [
              "<div>\n",
              "<style scoped>\n",
              "    .dataframe tbody tr th:only-of-type {\n",
              "        vertical-align: middle;\n",
              "    }\n",
              "\n",
              "    .dataframe tbody tr th {\n",
              "        vertical-align: top;\n",
              "    }\n",
              "\n",
              "    .dataframe thead th {\n",
              "        text-align: right;\n",
              "    }\n",
              "</style>\n",
              "<table border=\"1\" class=\"dataframe\">\n",
              "  <thead>\n",
              "    <tr style=\"text-align: right;\">\n",
              "      <th></th>\n",
              "      <th>NaturalPersonID</th>\n",
              "      <th>RequestDate</th>\n",
              "      <th>ProductName</th>\n",
              "      <th>CreditSum</th>\n",
              "      <th>TypeOfWork</th>\n",
              "      <th>Employment</th>\n",
              "      <th>SignIP</th>\n",
              "      <th>sex</th>\n",
              "      <th>age</th>\n",
              "      <th>EducationStatus</th>\n",
              "      <th>otrasl_rabotodatelya</th>\n",
              "      <th>kolichestvo_rabotnikov_v_organizacii</th>\n",
              "      <th>Employment.1</th>\n",
              "      <th>OrgStanding_N</th>\n",
              "      <th>kolichestvo_detej_mladshe_18</th>\n",
              "      <th>LivingRegionName</th>\n",
              "      <th>Residence</th>\n",
              "      <th>IncomeDocumentKind</th>\n",
              "      <th>HaveSalaryCard</th>\n",
              "      <th>IsBankWorker</th>\n",
              "      <th>TypeOfWork.1</th>\n",
              "      <th>SignIP.1</th>\n",
              "      <th>harakteristika_tekutschego_trudoustrojstva</th>\n",
              "      <th>ConfirmedMonthlyIncome (Target)</th>\n",
              "    </tr>\n",
              "  </thead>\n",
              "  <tbody>\n",
              "    <tr>\n",
              "      <th>0</th>\n",
              "      <td>1ABD801A-0580-4C4F-9682-E7E85A749981</td>\n",
              "      <td>2018-10-16</td>\n",
              "      <td>Кредит на потребительские нужды</td>\n",
              "      <td>500000.0</td>\n",
              "      <td>NaN</td>\n",
              "      <td>Сотрудник \\ Рабочий \\ Ассистент</td>\n",
              "      <td>NaN</td>\n",
              "      <td>Женский</td>\n",
              "      <td>49</td>\n",
              "      <td>Высшее образование</td>\n",
              "      <td>Прочее</td>\n",
              "      <td>более 500</td>\n",
              "      <td>Сотрудник \\ Рабочий \\ Ассистент</td>\n",
              "      <td>1.25</td>\n",
              "      <td>0</td>\n",
              "      <td>Самара</td>\n",
              "      <td>город</td>\n",
              "      <td>Выписка по счету</td>\n",
              "      <td>нет</td>\n",
              "      <td>да</td>\n",
              "      <td>NaN</td>\n",
              "      <td>NaN</td>\n",
              "      <td>Постоянная, полная занятость</td>\n",
              "      <td>30691.36</td>\n",
              "    </tr>\n",
              "    <tr>\n",
              "      <th>1</th>\n",
              "      <td>7B427911-9B96-443E-9EBA-76A02515E1BE</td>\n",
              "      <td>2018-10-19</td>\n",
              "      <td>Кредит на потребительские нужды</td>\n",
              "      <td>708000.0</td>\n",
              "      <td>NaN</td>\n",
              "      <td>Главный Специалист\\Руководитель среднего звена</td>\n",
              "      <td>NaN</td>\n",
              "      <td>Женский</td>\n",
              "      <td>44</td>\n",
              "      <td>Среднее специальное образование</td>\n",
              "      <td>Государственная служба</td>\n",
              "      <td>до 20</td>\n",
              "      <td>Главный Специалист\\Руководитель среднего звена</td>\n",
              "      <td>20.00</td>\n",
              "      <td>0</td>\n",
              "      <td>Казань</td>\n",
              "      <td>село</td>\n",
              "      <td>Выписка по счету</td>\n",
              "      <td>да</td>\n",
              "      <td>нет</td>\n",
              "      <td>NaN</td>\n",
              "      <td>NaN</td>\n",
              "      <td>Постоянная, полная занятость</td>\n",
              "      <td>25712.07</td>\n",
              "    </tr>\n",
              "    <tr>\n",
              "      <th>2</th>\n",
              "      <td>4B867BD5-6398-4400-99CA-CF208714AF9A</td>\n",
              "      <td>2018-11-02</td>\n",
              "      <td>Кредит на потребительские нужды</td>\n",
              "      <td>665000.0</td>\n",
              "      <td>NaN</td>\n",
              "      <td>Сотрудник \\ Рабочий \\ Ассистент</td>\n",
              "      <td>NaN</td>\n",
              "      <td>Мужской</td>\n",
              "      <td>29</td>\n",
              "      <td>Высшее образование</td>\n",
              "      <td>Прочее</td>\n",
              "      <td>101-500</td>\n",
              "      <td>Сотрудник \\ Рабочий \\ Ассистент</td>\n",
              "      <td>2.00</td>\n",
              "      <td>1</td>\n",
              "      <td>Казань</td>\n",
              "      <td>город</td>\n",
              "      <td>Выписка по счету</td>\n",
              "      <td>да</td>\n",
              "      <td>нет</td>\n",
              "      <td>NaN</td>\n",
              "      <td>NaN</td>\n",
              "      <td>Постоянная, полная занятость</td>\n",
              "      <td>31081.26</td>\n",
              "    </tr>\n",
              "    <tr>\n",
              "      <th>3</th>\n",
              "      <td>ED654BFA-A7E7-4280-84CA-D6EAE80E45E2</td>\n",
              "      <td>2018-11-02</td>\n",
              "      <td>Кредит на потребительские нужды</td>\n",
              "      <td>458000.0</td>\n",
              "      <td>NaN</td>\n",
              "      <td>Сотрудник \\ Рабочий \\ Ассистент</td>\n",
              "      <td>NaN</td>\n",
              "      <td>Женский</td>\n",
              "      <td>59</td>\n",
              "      <td>Несколько высших образований</td>\n",
              "      <td>Образование</td>\n",
              "      <td>21-100</td>\n",
              "      <td>Сотрудник \\ Рабочий \\ Ассистент</td>\n",
              "      <td>23.00</td>\n",
              "      <td>0</td>\n",
              "      <td>Зеленодольский</td>\n",
              "      <td>село</td>\n",
              "      <td>2-НДФЛ</td>\n",
              "      <td>да</td>\n",
              "      <td>нет</td>\n",
              "      <td>NaN</td>\n",
              "      <td>NaN</td>\n",
              "      <td>Постоянная, полная занятость</td>\n",
              "      <td>17848.79</td>\n",
              "    </tr>\n",
              "    <tr>\n",
              "      <th>4</th>\n",
              "      <td>CCA3FF37-D508-449E-869A-6ED4CB6F9943</td>\n",
              "      <td>2018-10-15</td>\n",
              "      <td>Кредит на потребительские нужды</td>\n",
              "      <td>969000.0</td>\n",
              "      <td>NaN</td>\n",
              "      <td>Сотрудник \\ Рабочий \\ Ассистент</td>\n",
              "      <td>NaN</td>\n",
              "      <td>Мужской</td>\n",
              "      <td>51</td>\n",
              "      <td>Высшее образование</td>\n",
              "      <td>Здравоохранение</td>\n",
              "      <td>более 500</td>\n",
              "      <td>Сотрудник \\ Рабочий \\ Ассистент</td>\n",
              "      <td>9.25</td>\n",
              "      <td>2</td>\n",
              "      <td>Тюмень</td>\n",
              "      <td>город</td>\n",
              "      <td>2-НДФЛ</td>\n",
              "      <td>нет</td>\n",
              "      <td>нет</td>\n",
              "      <td>NaN</td>\n",
              "      <td>NaN</td>\n",
              "      <td>Постоянная, полная занятость</td>\n",
              "      <td>115380.53</td>\n",
              "    </tr>\n",
              "  </tbody>\n",
              "</table>\n",
              "</div>"
            ],
            "text/plain": [
              "                        NaturalPersonID  ... ConfirmedMonthlyIncome (Target)\n",
              "0  1ABD801A-0580-4C4F-9682-E7E85A749981  ...                        30691.36\n",
              "1  7B427911-9B96-443E-9EBA-76A02515E1BE  ...                        25712.07\n",
              "2  4B867BD5-6398-4400-99CA-CF208714AF9A  ...                        31081.26\n",
              "3  ED654BFA-A7E7-4280-84CA-D6EAE80E45E2  ...                        17848.79\n",
              "4  CCA3FF37-D508-449E-869A-6ED4CB6F9943  ...                       115380.53\n",
              "\n",
              "[5 rows x 24 columns]"
            ]
          },
          "metadata": {},
          "execution_count": 2
        }
      ],
      "execution_count": 2,
      "id": "DuTs354T6yUS"
    },
    {
      "cell_type": "code",
      "source": [
        "data.info()"
      ],
      "metadata": {
        "cellId": "2qdm1qzwb7rpnz930ntoeo",
        "trusted": true,
        "colab": {
          "base_uri": "https://localhost:8080/"
        },
        "id": "L0oww_n56yUU",
        "outputId": "629a1554-13db-479d-a92b-ed813f650236"
      },
      "outputs": [
        {
          "output_type": "stream",
          "name": "stdout",
          "text": [
            "<class 'pandas.core.frame.DataFrame'>\n",
            "RangeIndex: 10719 entries, 0 to 10718\n",
            "Data columns (total 24 columns):\n",
            " #   Column                                      Non-Null Count  Dtype         \n",
            "---  ------                                      --------------  -----         \n",
            " 0   NaturalPersonID                             10719 non-null  object        \n",
            " 1   RequestDate                                 10719 non-null  datetime64[ns]\n",
            " 2   ProductName                                 10719 non-null  object        \n",
            " 3   CreditSum                                   10713 non-null  float64       \n",
            " 4   TypeOfWork                                  6151 non-null   object        \n",
            " 5   Employment                                  10716 non-null  object        \n",
            " 6   SignIP                                      72 non-null     object        \n",
            " 7   sex                                         10719 non-null  object        \n",
            " 8   age                                         10719 non-null  int64         \n",
            " 9   EducationStatus                             10719 non-null  object        \n",
            " 10  otrasl_rabotodatelya                        10718 non-null  object        \n",
            " 11  kolichestvo_rabotnikov_v_organizacii        10718 non-null  object        \n",
            " 12  Employment.1                                10716 non-null  object        \n",
            " 13  OrgStanding_N                               10719 non-null  float64       \n",
            " 14  kolichestvo_detej_mladshe_18                10719 non-null  int64         \n",
            " 15  LivingRegionName                            10719 non-null  object        \n",
            " 16  Residence                                   9897 non-null   object        \n",
            " 17  IncomeDocumentKind                          10589 non-null  object        \n",
            " 18  HaveSalaryCard                              10719 non-null  object        \n",
            " 19  IsBankWorker                                10719 non-null  object        \n",
            " 20  TypeOfWork.1                                6151 non-null   object        \n",
            " 21  SignIP.1                                    72 non-null     object        \n",
            " 22  harakteristika_tekutschego_trudoustrojstva  10488 non-null  object        \n",
            " 23  ConfirmedMonthlyIncome (Target)             10719 non-null  float64       \n",
            "dtypes: datetime64[ns](1), float64(3), int64(2), object(18)\n",
            "memory usage: 2.0+ MB\n"
          ]
        }
      ],
      "execution_count": 3,
      "id": "L0oww_n56yUU"
    },
    {
      "cell_type": "markdown",
      "source": [
        "Все значения в столбце NaturalPersonID уникальны:"
      ],
      "metadata": {
        "cellId": "73ns0g1usbjcn4354acnj6",
        "id": "yTl2qR_96yUV"
      },
      "id": "yTl2qR_96yUV"
    },
    {
      "cell_type": "code",
      "source": [
        "data['NaturalPersonID'].is_unique"
      ],
      "metadata": {
        "cellId": "x4d8x726hqeog1pa33zy6a",
        "trusted": true,
        "colab": {
          "base_uri": "https://localhost:8080/"
        },
        "id": "79dO2rr26yUX",
        "outputId": "4230ac1e-9d89-4374-aa47-337abbdd076a"
      },
      "outputs": [
        {
          "output_type": "execute_result",
          "data": {
            "text/plain": [
              "True"
            ]
          },
          "metadata": {},
          "execution_count": 4
        }
      ],
      "execution_count": 4,
      "id": "79dO2rr26yUX"
    },
    {
      "cell_type": "markdown",
      "source": [
        "Столбец NaturalPersonID содержит уникальные идентификаторы пользователей. Он не содержит полезной информации, так что удалим его."
      ],
      "metadata": {
        "cellId": "hnsv6r1dkrp72fax1cxuub",
        "id": "BAle_D2T6yUY"
      },
      "id": "BAle_D2T6yUY"
    },
    {
      "cell_type": "code",
      "source": [
        "data.drop('NaturalPersonID', inplace=True, axis=1)\n",
        "data.head()"
      ],
      "metadata": {
        "cellId": "9klc0tl9nwp108n1n3z2db",
        "trusted": true,
        "colab": {
          "base_uri": "https://localhost:8080/",
          "height": 417
        },
        "id": "L-IIK0AC6yUZ",
        "outputId": "93219b69-050c-4794-a869-6fa463027e37"
      },
      "outputs": [
        {
          "output_type": "execute_result",
          "data": {
            "text/html": [
              "<div>\n",
              "<style scoped>\n",
              "    .dataframe tbody tr th:only-of-type {\n",
              "        vertical-align: middle;\n",
              "    }\n",
              "\n",
              "    .dataframe tbody tr th {\n",
              "        vertical-align: top;\n",
              "    }\n",
              "\n",
              "    .dataframe thead th {\n",
              "        text-align: right;\n",
              "    }\n",
              "</style>\n",
              "<table border=\"1\" class=\"dataframe\">\n",
              "  <thead>\n",
              "    <tr style=\"text-align: right;\">\n",
              "      <th></th>\n",
              "      <th>RequestDate</th>\n",
              "      <th>ProductName</th>\n",
              "      <th>CreditSum</th>\n",
              "      <th>TypeOfWork</th>\n",
              "      <th>Employment</th>\n",
              "      <th>SignIP</th>\n",
              "      <th>sex</th>\n",
              "      <th>age</th>\n",
              "      <th>EducationStatus</th>\n",
              "      <th>otrasl_rabotodatelya</th>\n",
              "      <th>kolichestvo_rabotnikov_v_organizacii</th>\n",
              "      <th>Employment.1</th>\n",
              "      <th>OrgStanding_N</th>\n",
              "      <th>kolichestvo_detej_mladshe_18</th>\n",
              "      <th>LivingRegionName</th>\n",
              "      <th>Residence</th>\n",
              "      <th>IncomeDocumentKind</th>\n",
              "      <th>HaveSalaryCard</th>\n",
              "      <th>IsBankWorker</th>\n",
              "      <th>TypeOfWork.1</th>\n",
              "      <th>SignIP.1</th>\n",
              "      <th>harakteristika_tekutschego_trudoustrojstva</th>\n",
              "      <th>ConfirmedMonthlyIncome (Target)</th>\n",
              "    </tr>\n",
              "  </thead>\n",
              "  <tbody>\n",
              "    <tr>\n",
              "      <th>0</th>\n",
              "      <td>2018-10-16</td>\n",
              "      <td>Кредит на потребительские нужды</td>\n",
              "      <td>500000.0</td>\n",
              "      <td>NaN</td>\n",
              "      <td>Сотрудник \\ Рабочий \\ Ассистент</td>\n",
              "      <td>NaN</td>\n",
              "      <td>Женский</td>\n",
              "      <td>49</td>\n",
              "      <td>Высшее образование</td>\n",
              "      <td>Прочее</td>\n",
              "      <td>более 500</td>\n",
              "      <td>Сотрудник \\ Рабочий \\ Ассистент</td>\n",
              "      <td>1.25</td>\n",
              "      <td>0</td>\n",
              "      <td>Самара</td>\n",
              "      <td>город</td>\n",
              "      <td>Выписка по счету</td>\n",
              "      <td>нет</td>\n",
              "      <td>да</td>\n",
              "      <td>NaN</td>\n",
              "      <td>NaN</td>\n",
              "      <td>Постоянная, полная занятость</td>\n",
              "      <td>30691.36</td>\n",
              "    </tr>\n",
              "    <tr>\n",
              "      <th>1</th>\n",
              "      <td>2018-10-19</td>\n",
              "      <td>Кредит на потребительские нужды</td>\n",
              "      <td>708000.0</td>\n",
              "      <td>NaN</td>\n",
              "      <td>Главный Специалист\\Руководитель среднего звена</td>\n",
              "      <td>NaN</td>\n",
              "      <td>Женский</td>\n",
              "      <td>44</td>\n",
              "      <td>Среднее специальное образование</td>\n",
              "      <td>Государственная служба</td>\n",
              "      <td>до 20</td>\n",
              "      <td>Главный Специалист\\Руководитель среднего звена</td>\n",
              "      <td>20.00</td>\n",
              "      <td>0</td>\n",
              "      <td>Казань</td>\n",
              "      <td>село</td>\n",
              "      <td>Выписка по счету</td>\n",
              "      <td>да</td>\n",
              "      <td>нет</td>\n",
              "      <td>NaN</td>\n",
              "      <td>NaN</td>\n",
              "      <td>Постоянная, полная занятость</td>\n",
              "      <td>25712.07</td>\n",
              "    </tr>\n",
              "    <tr>\n",
              "      <th>2</th>\n",
              "      <td>2018-11-02</td>\n",
              "      <td>Кредит на потребительские нужды</td>\n",
              "      <td>665000.0</td>\n",
              "      <td>NaN</td>\n",
              "      <td>Сотрудник \\ Рабочий \\ Ассистент</td>\n",
              "      <td>NaN</td>\n",
              "      <td>Мужской</td>\n",
              "      <td>29</td>\n",
              "      <td>Высшее образование</td>\n",
              "      <td>Прочее</td>\n",
              "      <td>101-500</td>\n",
              "      <td>Сотрудник \\ Рабочий \\ Ассистент</td>\n",
              "      <td>2.00</td>\n",
              "      <td>1</td>\n",
              "      <td>Казань</td>\n",
              "      <td>город</td>\n",
              "      <td>Выписка по счету</td>\n",
              "      <td>да</td>\n",
              "      <td>нет</td>\n",
              "      <td>NaN</td>\n",
              "      <td>NaN</td>\n",
              "      <td>Постоянная, полная занятость</td>\n",
              "      <td>31081.26</td>\n",
              "    </tr>\n",
              "    <tr>\n",
              "      <th>3</th>\n",
              "      <td>2018-11-02</td>\n",
              "      <td>Кредит на потребительские нужды</td>\n",
              "      <td>458000.0</td>\n",
              "      <td>NaN</td>\n",
              "      <td>Сотрудник \\ Рабочий \\ Ассистент</td>\n",
              "      <td>NaN</td>\n",
              "      <td>Женский</td>\n",
              "      <td>59</td>\n",
              "      <td>Несколько высших образований</td>\n",
              "      <td>Образование</td>\n",
              "      <td>21-100</td>\n",
              "      <td>Сотрудник \\ Рабочий \\ Ассистент</td>\n",
              "      <td>23.00</td>\n",
              "      <td>0</td>\n",
              "      <td>Зеленодольский</td>\n",
              "      <td>село</td>\n",
              "      <td>2-НДФЛ</td>\n",
              "      <td>да</td>\n",
              "      <td>нет</td>\n",
              "      <td>NaN</td>\n",
              "      <td>NaN</td>\n",
              "      <td>Постоянная, полная занятость</td>\n",
              "      <td>17848.79</td>\n",
              "    </tr>\n",
              "    <tr>\n",
              "      <th>4</th>\n",
              "      <td>2018-10-15</td>\n",
              "      <td>Кредит на потребительские нужды</td>\n",
              "      <td>969000.0</td>\n",
              "      <td>NaN</td>\n",
              "      <td>Сотрудник \\ Рабочий \\ Ассистент</td>\n",
              "      <td>NaN</td>\n",
              "      <td>Мужской</td>\n",
              "      <td>51</td>\n",
              "      <td>Высшее образование</td>\n",
              "      <td>Здравоохранение</td>\n",
              "      <td>более 500</td>\n",
              "      <td>Сотрудник \\ Рабочий \\ Ассистент</td>\n",
              "      <td>9.25</td>\n",
              "      <td>2</td>\n",
              "      <td>Тюмень</td>\n",
              "      <td>город</td>\n",
              "      <td>2-НДФЛ</td>\n",
              "      <td>нет</td>\n",
              "      <td>нет</td>\n",
              "      <td>NaN</td>\n",
              "      <td>NaN</td>\n",
              "      <td>Постоянная, полная занятость</td>\n",
              "      <td>115380.53</td>\n",
              "    </tr>\n",
              "  </tbody>\n",
              "</table>\n",
              "</div>"
            ],
            "text/plain": [
              "  RequestDate  ... ConfirmedMonthlyIncome (Target)\n",
              "0  2018-10-16  ...                        30691.36\n",
              "1  2018-10-19  ...                        25712.07\n",
              "2  2018-11-02  ...                        31081.26\n",
              "3  2018-11-02  ...                        17848.79\n",
              "4  2018-10-15  ...                       115380.53\n",
              "\n",
              "[5 rows x 23 columns]"
            ]
          },
          "metadata": {},
          "execution_count": 5
        }
      ],
      "execution_count": 5,
      "id": "L-IIK0AC6yUZ"
    },
    {
      "cell_type": "markdown",
      "source": [
        "В данных есть полностью одинаковые столбцы. Удалим их"
      ],
      "metadata": {
        "cellId": "ul5xdb0vtimljug5iar5z",
        "id": "OmG_0ANu6yUa"
      },
      "id": "OmG_0ANu6yUa"
    },
    {
      "cell_type": "code",
      "source": [
        "data['TypeOfWork'].equals(data['TypeOfWork.1']), data['Employment'].equals(data['Employment.1']), data['SignIP'].equals(data['SignIP.1'])"
      ],
      "metadata": {
        "cellId": "grixebxowt9kuzaggknco",
        "trusted": true,
        "colab": {
          "base_uri": "https://localhost:8080/"
        },
        "id": "mZJoKUv16yUb",
        "outputId": "6284b096-fbc1-4e4a-b543-19a3662ffa3d"
      },
      "outputs": [
        {
          "output_type": "execute_result",
          "data": {
            "text/plain": [
              "(True, True, True)"
            ]
          },
          "metadata": {},
          "execution_count": 6
        }
      ],
      "execution_count": 6,
      "id": "mZJoKUv16yUb"
    },
    {
      "cell_type": "code",
      "source": [
        "data.drop(['TypeOfWork.1', 'Employment.1', 'SignIP.1'], inplace=True, axis=1)\n",
        "data.head(5)"
      ],
      "metadata": {
        "cellId": "2ml0jmzc4aabyqrki4aww",
        "trusted": true,
        "colab": {
          "base_uri": "https://localhost:8080/",
          "height": 417
        },
        "id": "CZd4m5p06yUd",
        "outputId": "fc4e1870-a7b2-40c9-9cc5-4328061b0c1a"
      },
      "outputs": [
        {
          "output_type": "execute_result",
          "data": {
            "text/html": [
              "<div>\n",
              "<style scoped>\n",
              "    .dataframe tbody tr th:only-of-type {\n",
              "        vertical-align: middle;\n",
              "    }\n",
              "\n",
              "    .dataframe tbody tr th {\n",
              "        vertical-align: top;\n",
              "    }\n",
              "\n",
              "    .dataframe thead th {\n",
              "        text-align: right;\n",
              "    }\n",
              "</style>\n",
              "<table border=\"1\" class=\"dataframe\">\n",
              "  <thead>\n",
              "    <tr style=\"text-align: right;\">\n",
              "      <th></th>\n",
              "      <th>RequestDate</th>\n",
              "      <th>ProductName</th>\n",
              "      <th>CreditSum</th>\n",
              "      <th>TypeOfWork</th>\n",
              "      <th>Employment</th>\n",
              "      <th>SignIP</th>\n",
              "      <th>sex</th>\n",
              "      <th>age</th>\n",
              "      <th>EducationStatus</th>\n",
              "      <th>otrasl_rabotodatelya</th>\n",
              "      <th>kolichestvo_rabotnikov_v_organizacii</th>\n",
              "      <th>OrgStanding_N</th>\n",
              "      <th>kolichestvo_detej_mladshe_18</th>\n",
              "      <th>LivingRegionName</th>\n",
              "      <th>Residence</th>\n",
              "      <th>IncomeDocumentKind</th>\n",
              "      <th>HaveSalaryCard</th>\n",
              "      <th>IsBankWorker</th>\n",
              "      <th>harakteristika_tekutschego_trudoustrojstva</th>\n",
              "      <th>ConfirmedMonthlyIncome (Target)</th>\n",
              "    </tr>\n",
              "  </thead>\n",
              "  <tbody>\n",
              "    <tr>\n",
              "      <th>0</th>\n",
              "      <td>2018-10-16</td>\n",
              "      <td>Кредит на потребительские нужды</td>\n",
              "      <td>500000.0</td>\n",
              "      <td>NaN</td>\n",
              "      <td>Сотрудник \\ Рабочий \\ Ассистент</td>\n",
              "      <td>NaN</td>\n",
              "      <td>Женский</td>\n",
              "      <td>49</td>\n",
              "      <td>Высшее образование</td>\n",
              "      <td>Прочее</td>\n",
              "      <td>более 500</td>\n",
              "      <td>1.25</td>\n",
              "      <td>0</td>\n",
              "      <td>Самара</td>\n",
              "      <td>город</td>\n",
              "      <td>Выписка по счету</td>\n",
              "      <td>нет</td>\n",
              "      <td>да</td>\n",
              "      <td>Постоянная, полная занятость</td>\n",
              "      <td>30691.36</td>\n",
              "    </tr>\n",
              "    <tr>\n",
              "      <th>1</th>\n",
              "      <td>2018-10-19</td>\n",
              "      <td>Кредит на потребительские нужды</td>\n",
              "      <td>708000.0</td>\n",
              "      <td>NaN</td>\n",
              "      <td>Главный Специалист\\Руководитель среднего звена</td>\n",
              "      <td>NaN</td>\n",
              "      <td>Женский</td>\n",
              "      <td>44</td>\n",
              "      <td>Среднее специальное образование</td>\n",
              "      <td>Государственная служба</td>\n",
              "      <td>до 20</td>\n",
              "      <td>20.00</td>\n",
              "      <td>0</td>\n",
              "      <td>Казань</td>\n",
              "      <td>село</td>\n",
              "      <td>Выписка по счету</td>\n",
              "      <td>да</td>\n",
              "      <td>нет</td>\n",
              "      <td>Постоянная, полная занятость</td>\n",
              "      <td>25712.07</td>\n",
              "    </tr>\n",
              "    <tr>\n",
              "      <th>2</th>\n",
              "      <td>2018-11-02</td>\n",
              "      <td>Кредит на потребительские нужды</td>\n",
              "      <td>665000.0</td>\n",
              "      <td>NaN</td>\n",
              "      <td>Сотрудник \\ Рабочий \\ Ассистент</td>\n",
              "      <td>NaN</td>\n",
              "      <td>Мужской</td>\n",
              "      <td>29</td>\n",
              "      <td>Высшее образование</td>\n",
              "      <td>Прочее</td>\n",
              "      <td>101-500</td>\n",
              "      <td>2.00</td>\n",
              "      <td>1</td>\n",
              "      <td>Казань</td>\n",
              "      <td>город</td>\n",
              "      <td>Выписка по счету</td>\n",
              "      <td>да</td>\n",
              "      <td>нет</td>\n",
              "      <td>Постоянная, полная занятость</td>\n",
              "      <td>31081.26</td>\n",
              "    </tr>\n",
              "    <tr>\n",
              "      <th>3</th>\n",
              "      <td>2018-11-02</td>\n",
              "      <td>Кредит на потребительские нужды</td>\n",
              "      <td>458000.0</td>\n",
              "      <td>NaN</td>\n",
              "      <td>Сотрудник \\ Рабочий \\ Ассистент</td>\n",
              "      <td>NaN</td>\n",
              "      <td>Женский</td>\n",
              "      <td>59</td>\n",
              "      <td>Несколько высших образований</td>\n",
              "      <td>Образование</td>\n",
              "      <td>21-100</td>\n",
              "      <td>23.00</td>\n",
              "      <td>0</td>\n",
              "      <td>Зеленодольский</td>\n",
              "      <td>село</td>\n",
              "      <td>2-НДФЛ</td>\n",
              "      <td>да</td>\n",
              "      <td>нет</td>\n",
              "      <td>Постоянная, полная занятость</td>\n",
              "      <td>17848.79</td>\n",
              "    </tr>\n",
              "    <tr>\n",
              "      <th>4</th>\n",
              "      <td>2018-10-15</td>\n",
              "      <td>Кредит на потребительские нужды</td>\n",
              "      <td>969000.0</td>\n",
              "      <td>NaN</td>\n",
              "      <td>Сотрудник \\ Рабочий \\ Ассистент</td>\n",
              "      <td>NaN</td>\n",
              "      <td>Мужской</td>\n",
              "      <td>51</td>\n",
              "      <td>Высшее образование</td>\n",
              "      <td>Здравоохранение</td>\n",
              "      <td>более 500</td>\n",
              "      <td>9.25</td>\n",
              "      <td>2</td>\n",
              "      <td>Тюмень</td>\n",
              "      <td>город</td>\n",
              "      <td>2-НДФЛ</td>\n",
              "      <td>нет</td>\n",
              "      <td>нет</td>\n",
              "      <td>Постоянная, полная занятость</td>\n",
              "      <td>115380.53</td>\n",
              "    </tr>\n",
              "  </tbody>\n",
              "</table>\n",
              "</div>"
            ],
            "text/plain": [
              "  RequestDate  ... ConfirmedMonthlyIncome (Target)\n",
              "0  2018-10-16  ...                        30691.36\n",
              "1  2018-10-19  ...                        25712.07\n",
              "2  2018-11-02  ...                        31081.26\n",
              "3  2018-11-02  ...                        17848.79\n",
              "4  2018-10-15  ...                       115380.53\n",
              "\n",
              "[5 rows x 20 columns]"
            ]
          },
          "metadata": {},
          "execution_count": 7
        }
      ],
      "execution_count": 7,
      "id": "CZd4m5p06yUd"
    },
    {
      "cell_type": "code",
      "source": [
        "data['sex'].unique()"
      ],
      "metadata": {
        "cellId": "g2mlnw9m3q4qztjlp936zq",
        "trusted": true,
        "colab": {
          "base_uri": "https://localhost:8080/"
        },
        "id": "YTKifeO76yUe",
        "outputId": "e030e1d7-6954-467c-9629-e37e63546af1"
      },
      "outputs": [
        {
          "output_type": "execute_result",
          "data": {
            "text/plain": [
              "array(['Женский', 'Мужской'], dtype=object)"
            ]
          },
          "metadata": {},
          "execution_count": 8
        }
      ],
      "execution_count": 8,
      "id": "YTKifeO76yUe"
    },
    {
      "cell_type": "code",
      "source": [
        "data['ProductName'].unique()"
      ],
      "metadata": {
        "cellId": "d60k4ceiypq83d6amsh67b",
        "trusted": true,
        "colab": {
          "base_uri": "https://localhost:8080/"
        },
        "id": "XAFAi-vt6yUe",
        "outputId": "5af121a9-229d-44f0-b864-af0ffb6945e9"
      },
      "outputs": [
        {
          "output_type": "execute_result",
          "data": {
            "text/plain": [
              "array(['Кредит на потребительские нужды', 'Кредитная карта'], dtype=object)"
            ]
          },
          "metadata": {},
          "execution_count": 9
        }
      ],
      "execution_count": 9,
      "id": "XAFAi-vt6yUe"
    },
    {
      "cell_type": "code",
      "source": [
        "data['IncomeDocumentKind'].unique()"
      ],
      "metadata": {
        "cellId": "5mcq96t2wchoukau6riisg",
        "trusted": true,
        "colab": {
          "base_uri": "https://localhost:8080/"
        },
        "id": "t8X6pQD46yUf",
        "outputId": "87026f1b-2fc8-4dc5-cecd-841a3945a1c3"
      },
      "outputs": [
        {
          "output_type": "execute_result",
          "data": {
            "text/plain": [
              "array(['Выписка по счету', '2-НДФЛ',\n",
              "       'Справка по форме Банка от работодателя', nan, 'Иное',\n",
              "       'Нет (не предоставлен)'], dtype=object)"
            ]
          },
          "metadata": {},
          "execution_count": 10
        }
      ],
      "execution_count": 10,
      "id": "t8X6pQD46yUf"
    },
    {
      "cell_type": "markdown",
      "source": [
        "В данных есть бинарные признаки. Закодируем их через 0 и 1"
      ],
      "metadata": {
        "cellId": "7rxtprqknzxc2osytmwnw8",
        "id": "PlUVCxeX6yUg"
      },
      "id": "PlUVCxeX6yUg"
    },
    {
      "cell_type": "code",
      "source": [
        "data['sex'] = data['sex'].map({'Женский': 0, 'Мужской': 1})\n",
        "data['ProductName'] = data['ProductName'].map({'Кредит на потребительские нужды': 0, 'Кредитная карта': 1})\n",
        "data['HaveSalaryCard'] = data['HaveSalaryCard'].map({'нет': 0, 'да': 1})\n",
        "data['IsBankWorker'] = data['IsBankWorker'].map({'нет': 0, 'да': 1})\n",
        "data.head()"
      ],
      "metadata": {
        "cellId": "tcgx95xe9q5w3us9hzz4",
        "trusted": true,
        "colab": {
          "base_uri": "https://localhost:8080/",
          "height": 365
        },
        "id": "ck6RN37g6yUh",
        "outputId": "32768ef1-67c7-44f6-91f2-4e29e3d2dd19"
      },
      "outputs": [
        {
          "output_type": "execute_result",
          "data": {
            "text/html": [
              "<div>\n",
              "<style scoped>\n",
              "    .dataframe tbody tr th:only-of-type {\n",
              "        vertical-align: middle;\n",
              "    }\n",
              "\n",
              "    .dataframe tbody tr th {\n",
              "        vertical-align: top;\n",
              "    }\n",
              "\n",
              "    .dataframe thead th {\n",
              "        text-align: right;\n",
              "    }\n",
              "</style>\n",
              "<table border=\"1\" class=\"dataframe\">\n",
              "  <thead>\n",
              "    <tr style=\"text-align: right;\">\n",
              "      <th></th>\n",
              "      <th>RequestDate</th>\n",
              "      <th>ProductName</th>\n",
              "      <th>CreditSum</th>\n",
              "      <th>TypeOfWork</th>\n",
              "      <th>Employment</th>\n",
              "      <th>SignIP</th>\n",
              "      <th>sex</th>\n",
              "      <th>age</th>\n",
              "      <th>EducationStatus</th>\n",
              "      <th>otrasl_rabotodatelya</th>\n",
              "      <th>kolichestvo_rabotnikov_v_organizacii</th>\n",
              "      <th>OrgStanding_N</th>\n",
              "      <th>kolichestvo_detej_mladshe_18</th>\n",
              "      <th>LivingRegionName</th>\n",
              "      <th>Residence</th>\n",
              "      <th>IncomeDocumentKind</th>\n",
              "      <th>HaveSalaryCard</th>\n",
              "      <th>IsBankWorker</th>\n",
              "      <th>harakteristika_tekutschego_trudoustrojstva</th>\n",
              "      <th>ConfirmedMonthlyIncome (Target)</th>\n",
              "    </tr>\n",
              "  </thead>\n",
              "  <tbody>\n",
              "    <tr>\n",
              "      <th>0</th>\n",
              "      <td>2018-10-16</td>\n",
              "      <td>0</td>\n",
              "      <td>500000.0</td>\n",
              "      <td>NaN</td>\n",
              "      <td>Сотрудник \\ Рабочий \\ Ассистент</td>\n",
              "      <td>NaN</td>\n",
              "      <td>0</td>\n",
              "      <td>49</td>\n",
              "      <td>Высшее образование</td>\n",
              "      <td>Прочее</td>\n",
              "      <td>более 500</td>\n",
              "      <td>1.25</td>\n",
              "      <td>0</td>\n",
              "      <td>Самара</td>\n",
              "      <td>город</td>\n",
              "      <td>Выписка по счету</td>\n",
              "      <td>0</td>\n",
              "      <td>1</td>\n",
              "      <td>Постоянная, полная занятость</td>\n",
              "      <td>30691.36</td>\n",
              "    </tr>\n",
              "    <tr>\n",
              "      <th>1</th>\n",
              "      <td>2018-10-19</td>\n",
              "      <td>0</td>\n",
              "      <td>708000.0</td>\n",
              "      <td>NaN</td>\n",
              "      <td>Главный Специалист\\Руководитель среднего звена</td>\n",
              "      <td>NaN</td>\n",
              "      <td>0</td>\n",
              "      <td>44</td>\n",
              "      <td>Среднее специальное образование</td>\n",
              "      <td>Государственная служба</td>\n",
              "      <td>до 20</td>\n",
              "      <td>20.00</td>\n",
              "      <td>0</td>\n",
              "      <td>Казань</td>\n",
              "      <td>село</td>\n",
              "      <td>Выписка по счету</td>\n",
              "      <td>1</td>\n",
              "      <td>0</td>\n",
              "      <td>Постоянная, полная занятость</td>\n",
              "      <td>25712.07</td>\n",
              "    </tr>\n",
              "    <tr>\n",
              "      <th>2</th>\n",
              "      <td>2018-11-02</td>\n",
              "      <td>0</td>\n",
              "      <td>665000.0</td>\n",
              "      <td>NaN</td>\n",
              "      <td>Сотрудник \\ Рабочий \\ Ассистент</td>\n",
              "      <td>NaN</td>\n",
              "      <td>1</td>\n",
              "      <td>29</td>\n",
              "      <td>Высшее образование</td>\n",
              "      <td>Прочее</td>\n",
              "      <td>101-500</td>\n",
              "      <td>2.00</td>\n",
              "      <td>1</td>\n",
              "      <td>Казань</td>\n",
              "      <td>город</td>\n",
              "      <td>Выписка по счету</td>\n",
              "      <td>1</td>\n",
              "      <td>0</td>\n",
              "      <td>Постоянная, полная занятость</td>\n",
              "      <td>31081.26</td>\n",
              "    </tr>\n",
              "    <tr>\n",
              "      <th>3</th>\n",
              "      <td>2018-11-02</td>\n",
              "      <td>0</td>\n",
              "      <td>458000.0</td>\n",
              "      <td>NaN</td>\n",
              "      <td>Сотрудник \\ Рабочий \\ Ассистент</td>\n",
              "      <td>NaN</td>\n",
              "      <td>0</td>\n",
              "      <td>59</td>\n",
              "      <td>Несколько высших образований</td>\n",
              "      <td>Образование</td>\n",
              "      <td>21-100</td>\n",
              "      <td>23.00</td>\n",
              "      <td>0</td>\n",
              "      <td>Зеленодольский</td>\n",
              "      <td>село</td>\n",
              "      <td>2-НДФЛ</td>\n",
              "      <td>1</td>\n",
              "      <td>0</td>\n",
              "      <td>Постоянная, полная занятость</td>\n",
              "      <td>17848.79</td>\n",
              "    </tr>\n",
              "    <tr>\n",
              "      <th>4</th>\n",
              "      <td>2018-10-15</td>\n",
              "      <td>0</td>\n",
              "      <td>969000.0</td>\n",
              "      <td>NaN</td>\n",
              "      <td>Сотрудник \\ Рабочий \\ Ассистент</td>\n",
              "      <td>NaN</td>\n",
              "      <td>1</td>\n",
              "      <td>51</td>\n",
              "      <td>Высшее образование</td>\n",
              "      <td>Здравоохранение</td>\n",
              "      <td>более 500</td>\n",
              "      <td>9.25</td>\n",
              "      <td>2</td>\n",
              "      <td>Тюмень</td>\n",
              "      <td>город</td>\n",
              "      <td>2-НДФЛ</td>\n",
              "      <td>0</td>\n",
              "      <td>0</td>\n",
              "      <td>Постоянная, полная занятость</td>\n",
              "      <td>115380.53</td>\n",
              "    </tr>\n",
              "  </tbody>\n",
              "</table>\n",
              "</div>"
            ],
            "text/plain": [
              "  RequestDate  ...  ConfirmedMonthlyIncome (Target)\n",
              "0  2018-10-16  ...                         30691.36\n",
              "1  2018-10-19  ...                         25712.07\n",
              "2  2018-11-02  ...                         31081.26\n",
              "3  2018-11-02  ...                         17848.79\n",
              "4  2018-10-15  ...                        115380.53\n",
              "\n",
              "[5 rows x 20 columns]"
            ]
          },
          "metadata": {},
          "execution_count": 11
        }
      ],
      "execution_count": 11,
      "id": "ck6RN37g6yUh"
    },
    {
      "cell_type": "markdown",
      "source": [
        "Признак kolichestvo_rabotnikov_v_organizacii закодируем числами от меньшего количества работников к большему"
      ],
      "metadata": {
        "cellId": "hkfxdxfafopk0q5txx08tm",
        "id": "e8MlMmc76yUh"
      },
      "id": "e8MlMmc76yUh"
    },
    {
      "cell_type": "code",
      "source": [
        "data['kolichestvo_rabotnikov_v_organizacii'].unique()"
      ],
      "metadata": {
        "cellId": "eijk04n2a8d0cabqqonfola",
        "trusted": true,
        "colab": {
          "base_uri": "https://localhost:8080/"
        },
        "id": "LawJQgmD6yUi",
        "outputId": "5a7c5638-28f5-42e2-f7c7-3f9bb39adf21"
      },
      "outputs": [
        {
          "output_type": "execute_result",
          "data": {
            "text/plain": [
              "array(['более 500', 'до 20', '101-500', '21-100', nan], dtype=object)"
            ]
          },
          "metadata": {},
          "execution_count": 12
        }
      ],
      "execution_count": 12,
      "id": "LawJQgmD6yUi"
    },
    {
      "cell_type": "code",
      "source": [
        "data['kolichestvo_rabotnikov_v_organizacii'] = data['kolichestvo_rabotnikov_v_organizacii']\\\n",
        "    .map({'до 20': 0, '21-100': 1, '101-500': 2, 'более 500': 3})\n",
        "data.head()"
      ],
      "metadata": {
        "cellId": "xnzwbxua7lksnxxseunpg",
        "trusted": true,
        "colab": {
          "base_uri": "https://localhost:8080/",
          "height": 365
        },
        "id": "B5gyMdYu6yUj",
        "outputId": "73ce514d-1c8d-4bb8-dafb-1b2beb39516a"
      },
      "outputs": [
        {
          "output_type": "execute_result",
          "data": {
            "text/html": [
              "<div>\n",
              "<style scoped>\n",
              "    .dataframe tbody tr th:only-of-type {\n",
              "        vertical-align: middle;\n",
              "    }\n",
              "\n",
              "    .dataframe tbody tr th {\n",
              "        vertical-align: top;\n",
              "    }\n",
              "\n",
              "    .dataframe thead th {\n",
              "        text-align: right;\n",
              "    }\n",
              "</style>\n",
              "<table border=\"1\" class=\"dataframe\">\n",
              "  <thead>\n",
              "    <tr style=\"text-align: right;\">\n",
              "      <th></th>\n",
              "      <th>RequestDate</th>\n",
              "      <th>ProductName</th>\n",
              "      <th>CreditSum</th>\n",
              "      <th>TypeOfWork</th>\n",
              "      <th>Employment</th>\n",
              "      <th>SignIP</th>\n",
              "      <th>sex</th>\n",
              "      <th>age</th>\n",
              "      <th>EducationStatus</th>\n",
              "      <th>otrasl_rabotodatelya</th>\n",
              "      <th>kolichestvo_rabotnikov_v_organizacii</th>\n",
              "      <th>OrgStanding_N</th>\n",
              "      <th>kolichestvo_detej_mladshe_18</th>\n",
              "      <th>LivingRegionName</th>\n",
              "      <th>Residence</th>\n",
              "      <th>IncomeDocumentKind</th>\n",
              "      <th>HaveSalaryCard</th>\n",
              "      <th>IsBankWorker</th>\n",
              "      <th>harakteristika_tekutschego_trudoustrojstva</th>\n",
              "      <th>ConfirmedMonthlyIncome (Target)</th>\n",
              "    </tr>\n",
              "  </thead>\n",
              "  <tbody>\n",
              "    <tr>\n",
              "      <th>0</th>\n",
              "      <td>2018-10-16</td>\n",
              "      <td>0</td>\n",
              "      <td>500000.0</td>\n",
              "      <td>NaN</td>\n",
              "      <td>Сотрудник \\ Рабочий \\ Ассистент</td>\n",
              "      <td>NaN</td>\n",
              "      <td>0</td>\n",
              "      <td>49</td>\n",
              "      <td>Высшее образование</td>\n",
              "      <td>Прочее</td>\n",
              "      <td>3.0</td>\n",
              "      <td>1.25</td>\n",
              "      <td>0</td>\n",
              "      <td>Самара</td>\n",
              "      <td>город</td>\n",
              "      <td>Выписка по счету</td>\n",
              "      <td>0</td>\n",
              "      <td>1</td>\n",
              "      <td>Постоянная, полная занятость</td>\n",
              "      <td>30691.36</td>\n",
              "    </tr>\n",
              "    <tr>\n",
              "      <th>1</th>\n",
              "      <td>2018-10-19</td>\n",
              "      <td>0</td>\n",
              "      <td>708000.0</td>\n",
              "      <td>NaN</td>\n",
              "      <td>Главный Специалист\\Руководитель среднего звена</td>\n",
              "      <td>NaN</td>\n",
              "      <td>0</td>\n",
              "      <td>44</td>\n",
              "      <td>Среднее специальное образование</td>\n",
              "      <td>Государственная служба</td>\n",
              "      <td>0.0</td>\n",
              "      <td>20.00</td>\n",
              "      <td>0</td>\n",
              "      <td>Казань</td>\n",
              "      <td>село</td>\n",
              "      <td>Выписка по счету</td>\n",
              "      <td>1</td>\n",
              "      <td>0</td>\n",
              "      <td>Постоянная, полная занятость</td>\n",
              "      <td>25712.07</td>\n",
              "    </tr>\n",
              "    <tr>\n",
              "      <th>2</th>\n",
              "      <td>2018-11-02</td>\n",
              "      <td>0</td>\n",
              "      <td>665000.0</td>\n",
              "      <td>NaN</td>\n",
              "      <td>Сотрудник \\ Рабочий \\ Ассистент</td>\n",
              "      <td>NaN</td>\n",
              "      <td>1</td>\n",
              "      <td>29</td>\n",
              "      <td>Высшее образование</td>\n",
              "      <td>Прочее</td>\n",
              "      <td>2.0</td>\n",
              "      <td>2.00</td>\n",
              "      <td>1</td>\n",
              "      <td>Казань</td>\n",
              "      <td>город</td>\n",
              "      <td>Выписка по счету</td>\n",
              "      <td>1</td>\n",
              "      <td>0</td>\n",
              "      <td>Постоянная, полная занятость</td>\n",
              "      <td>31081.26</td>\n",
              "    </tr>\n",
              "    <tr>\n",
              "      <th>3</th>\n",
              "      <td>2018-11-02</td>\n",
              "      <td>0</td>\n",
              "      <td>458000.0</td>\n",
              "      <td>NaN</td>\n",
              "      <td>Сотрудник \\ Рабочий \\ Ассистент</td>\n",
              "      <td>NaN</td>\n",
              "      <td>0</td>\n",
              "      <td>59</td>\n",
              "      <td>Несколько высших образований</td>\n",
              "      <td>Образование</td>\n",
              "      <td>1.0</td>\n",
              "      <td>23.00</td>\n",
              "      <td>0</td>\n",
              "      <td>Зеленодольский</td>\n",
              "      <td>село</td>\n",
              "      <td>2-НДФЛ</td>\n",
              "      <td>1</td>\n",
              "      <td>0</td>\n",
              "      <td>Постоянная, полная занятость</td>\n",
              "      <td>17848.79</td>\n",
              "    </tr>\n",
              "    <tr>\n",
              "      <th>4</th>\n",
              "      <td>2018-10-15</td>\n",
              "      <td>0</td>\n",
              "      <td>969000.0</td>\n",
              "      <td>NaN</td>\n",
              "      <td>Сотрудник \\ Рабочий \\ Ассистент</td>\n",
              "      <td>NaN</td>\n",
              "      <td>1</td>\n",
              "      <td>51</td>\n",
              "      <td>Высшее образование</td>\n",
              "      <td>Здравоохранение</td>\n",
              "      <td>3.0</td>\n",
              "      <td>9.25</td>\n",
              "      <td>2</td>\n",
              "      <td>Тюмень</td>\n",
              "      <td>город</td>\n",
              "      <td>2-НДФЛ</td>\n",
              "      <td>0</td>\n",
              "      <td>0</td>\n",
              "      <td>Постоянная, полная занятость</td>\n",
              "      <td>115380.53</td>\n",
              "    </tr>\n",
              "  </tbody>\n",
              "</table>\n",
              "</div>"
            ],
            "text/plain": [
              "  RequestDate  ...  ConfirmedMonthlyIncome (Target)\n",
              "0  2018-10-16  ...                         30691.36\n",
              "1  2018-10-19  ...                         25712.07\n",
              "2  2018-11-02  ...                         31081.26\n",
              "3  2018-11-02  ...                         17848.79\n",
              "4  2018-10-15  ...                        115380.53\n",
              "\n",
              "[5 rows x 20 columns]"
            ]
          },
          "metadata": {},
          "execution_count": 13
        }
      ],
      "execution_count": 13,
      "id": "B5gyMdYu6yUj"
    },
    {
      "cell_type": "markdown",
      "source": [
        "harakteristika_tekutschego_trudoustrojstva — \"Частичная или временная занятость\" практически у всех. Единственное другое значение — \"Частичная или временная занятость\", но строк с таким значением всего 15 из более 10000.\n",
        "Это может привести к переобучению.\n",
        "\n",
        "К тому же столбец содержит значительное количество NaN.\n",
        "\n",
        "Удалим этот столбец."
      ],
      "metadata": {
        "cellId": "neg2tkovw3aa2c8mls2w6c",
        "id": "-v52_Rn26yUk"
      },
      "id": "-v52_Rn26yUk"
    },
    {
      "cell_type": "code",
      "source": [
        "data['harakteristika_tekutschego_trudoustrojstva'].unique(), data['harakteristika_tekutschego_trudoustrojstva'].value_counts()"
      ],
      "metadata": {
        "cellId": "67byjcfmsdkzef5lo39weg",
        "trusted": true,
        "colab": {
          "base_uri": "https://localhost:8080/"
        },
        "id": "1rNvcTJs6yUk",
        "outputId": "ffd4b913-14a1-4b4b-b646-5e237108031e"
      },
      "outputs": [
        {
          "output_type": "execute_result",
          "data": {
            "text/plain": [
              "(array(['Постоянная, полная занятость', nan,\n",
              "        'Частичная или временная занятость'], dtype=object),\n",
              " Постоянная, полная занятость         10473\n",
              " Частичная или временная занятость       15\n",
              " Name: harakteristika_tekutschego_trudoustrojstva, dtype: int64)"
            ]
          },
          "metadata": {},
          "execution_count": 14
        }
      ],
      "execution_count": 14,
      "id": "1rNvcTJs6yUk"
    },
    {
      "cell_type": "code",
      "source": [
        "data[data['harakteristika_tekutschego_trudoustrojstva'] == 'Частичная или временная занятость']"
      ],
      "metadata": {
        "id": "mJD9eswF8Ks-",
        "outputId": "16933f6d-8744-45b5-d560-9f8cea9fdaa0",
        "colab": {
          "base_uri": "https://localhost:8080/",
          "height": 956
        }
      },
      "id": "mJD9eswF8Ks-",
      "execution_count": 15,
      "outputs": [
        {
          "output_type": "execute_result",
          "data": {
            "text/html": [
              "<div>\n",
              "<style scoped>\n",
              "    .dataframe tbody tr th:only-of-type {\n",
              "        vertical-align: middle;\n",
              "    }\n",
              "\n",
              "    .dataframe tbody tr th {\n",
              "        vertical-align: top;\n",
              "    }\n",
              "\n",
              "    .dataframe thead th {\n",
              "        text-align: right;\n",
              "    }\n",
              "</style>\n",
              "<table border=\"1\" class=\"dataframe\">\n",
              "  <thead>\n",
              "    <tr style=\"text-align: right;\">\n",
              "      <th></th>\n",
              "      <th>RequestDate</th>\n",
              "      <th>ProductName</th>\n",
              "      <th>CreditSum</th>\n",
              "      <th>TypeOfWork</th>\n",
              "      <th>Employment</th>\n",
              "      <th>SignIP</th>\n",
              "      <th>sex</th>\n",
              "      <th>age</th>\n",
              "      <th>EducationStatus</th>\n",
              "      <th>otrasl_rabotodatelya</th>\n",
              "      <th>kolichestvo_rabotnikov_v_organizacii</th>\n",
              "      <th>OrgStanding_N</th>\n",
              "      <th>kolichestvo_detej_mladshe_18</th>\n",
              "      <th>LivingRegionName</th>\n",
              "      <th>Residence</th>\n",
              "      <th>IncomeDocumentKind</th>\n",
              "      <th>HaveSalaryCard</th>\n",
              "      <th>IsBankWorker</th>\n",
              "      <th>harakteristika_tekutschego_trudoustrojstva</th>\n",
              "      <th>ConfirmedMonthlyIncome (Target)</th>\n",
              "    </tr>\n",
              "  </thead>\n",
              "  <tbody>\n",
              "    <tr>\n",
              "      <th>1009</th>\n",
              "      <td>2018-11-13</td>\n",
              "      <td>0</td>\n",
              "      <td>315481.19</td>\n",
              "      <td>NaN</td>\n",
              "      <td>Сотрудник \\ Рабочий \\ Ассистент</td>\n",
              "      <td>NaN</td>\n",
              "      <td>1</td>\n",
              "      <td>22</td>\n",
              "      <td>Среднее специальное образование</td>\n",
              "      <td>Государственная служба</td>\n",
              "      <td>3.0</td>\n",
              "      <td>0.583333</td>\n",
              "      <td>0</td>\n",
              "      <td>Йошкар-Ола</td>\n",
              "      <td>город</td>\n",
              "      <td>2-НДФЛ</td>\n",
              "      <td>0</td>\n",
              "      <td>0</td>\n",
              "      <td>Частичная или временная занятость</td>\n",
              "      <td>21217.56</td>\n",
              "    </tr>\n",
              "    <tr>\n",
              "      <th>2286</th>\n",
              "      <td>2018-11-12</td>\n",
              "      <td>1</td>\n",
              "      <td>50000.00</td>\n",
              "      <td>NaN</td>\n",
              "      <td>Главный Специалист\\Руководитель среднего звена</td>\n",
              "      <td>NaN</td>\n",
              "      <td>1</td>\n",
              "      <td>41</td>\n",
              "      <td>Высшее образование</td>\n",
              "      <td>Прочее</td>\n",
              "      <td>1.0</td>\n",
              "      <td>5.000000</td>\n",
              "      <td>0</td>\n",
              "      <td>Казань</td>\n",
              "      <td>город</td>\n",
              "      <td>2-НДФЛ</td>\n",
              "      <td>0</td>\n",
              "      <td>0</td>\n",
              "      <td>Частичная или временная занятость</td>\n",
              "      <td>35178.86</td>\n",
              "    </tr>\n",
              "    <tr>\n",
              "      <th>4152</th>\n",
              "      <td>2017-06-28</td>\n",
              "      <td>0</td>\n",
              "      <td>162163.00</td>\n",
              "      <td>по найму</td>\n",
              "      <td>Сотрудник \\ Рабочий \\ Ассистент</td>\n",
              "      <td>NaN</td>\n",
              "      <td>0</td>\n",
              "      <td>37</td>\n",
              "      <td>Высшее образование</td>\n",
              "      <td>Образование</td>\n",
              "      <td>1.0</td>\n",
              "      <td>0.416666</td>\n",
              "      <td>0</td>\n",
              "      <td>Бугульминский</td>\n",
              "      <td>город</td>\n",
              "      <td>Выписка по счету</td>\n",
              "      <td>1</td>\n",
              "      <td>0</td>\n",
              "      <td>Частичная или временная занятость</td>\n",
              "      <td>16229.88</td>\n",
              "    </tr>\n",
              "    <tr>\n",
              "      <th>4885</th>\n",
              "      <td>2018-07-16</td>\n",
              "      <td>0</td>\n",
              "      <td>317660.86</td>\n",
              "      <td>NaN</td>\n",
              "      <td>Главный Специалист\\Руководитель среднего звена</td>\n",
              "      <td>NaN</td>\n",
              "      <td>1</td>\n",
              "      <td>32</td>\n",
              "      <td>Высшее образование</td>\n",
              "      <td>Правоохр.органы (МинОбороны, МинЮстиции)</td>\n",
              "      <td>3.0</td>\n",
              "      <td>10.000000</td>\n",
              "      <td>2</td>\n",
              "      <td>Псков</td>\n",
              "      <td>город</td>\n",
              "      <td>2-НДФЛ</td>\n",
              "      <td>0</td>\n",
              "      <td>0</td>\n",
              "      <td>Частичная или временная занятость</td>\n",
              "      <td>105257.97</td>\n",
              "    </tr>\n",
              "    <tr>\n",
              "      <th>5720</th>\n",
              "      <td>2017-03-23</td>\n",
              "      <td>0</td>\n",
              "      <td>40000.00</td>\n",
              "      <td>по найму</td>\n",
              "      <td>Главный Специалист\\Руководитель среднего звена</td>\n",
              "      <td>NaN</td>\n",
              "      <td>0</td>\n",
              "      <td>42</td>\n",
              "      <td>Среднее специальное образование</td>\n",
              "      <td>Прочее</td>\n",
              "      <td>1.0</td>\n",
              "      <td>6.000000</td>\n",
              "      <td>1</td>\n",
              "      <td>Набережные Челны</td>\n",
              "      <td>село</td>\n",
              "      <td>Выписка по счету</td>\n",
              "      <td>1</td>\n",
              "      <td>0</td>\n",
              "      <td>Частичная или временная занятость</td>\n",
              "      <td>20814.32</td>\n",
              "    </tr>\n",
              "    <tr>\n",
              "      <th>6707</th>\n",
              "      <td>2018-09-04</td>\n",
              "      <td>0</td>\n",
              "      <td>500000.00</td>\n",
              "      <td>NaN</td>\n",
              "      <td>Сотрудник \\ Рабочий \\ Ассистент</td>\n",
              "      <td>NaN</td>\n",
              "      <td>1</td>\n",
              "      <td>35</td>\n",
              "      <td>Среднее специальное образование</td>\n",
              "      <td>Прочее</td>\n",
              "      <td>3.0</td>\n",
              "      <td>7.750000</td>\n",
              "      <td>2</td>\n",
              "      <td>Йошкар-Ола</td>\n",
              "      <td>село</td>\n",
              "      <td>Справка по форме Банка от работодателя</td>\n",
              "      <td>0</td>\n",
              "      <td>0</td>\n",
              "      <td>Частичная или временная занятость</td>\n",
              "      <td>42060.55</td>\n",
              "    </tr>\n",
              "    <tr>\n",
              "      <th>7463</th>\n",
              "      <td>2018-03-02</td>\n",
              "      <td>0</td>\n",
              "      <td>562500.00</td>\n",
              "      <td>по найму</td>\n",
              "      <td>Сотрудник \\ Рабочий \\ Ассистент</td>\n",
              "      <td>NaN</td>\n",
              "      <td>0</td>\n",
              "      <td>40</td>\n",
              "      <td>Высшее образование</td>\n",
              "      <td>Государственная служба</td>\n",
              "      <td>0.0</td>\n",
              "      <td>8.000000</td>\n",
              "      <td>1</td>\n",
              "      <td>Бугульминский</td>\n",
              "      <td>город</td>\n",
              "      <td>Выписка по счету</td>\n",
              "      <td>1</td>\n",
              "      <td>0</td>\n",
              "      <td>Частичная или временная занятость</td>\n",
              "      <td>23120.36</td>\n",
              "    </tr>\n",
              "    <tr>\n",
              "      <th>7708</th>\n",
              "      <td>2018-10-24</td>\n",
              "      <td>0</td>\n",
              "      <td>500000.00</td>\n",
              "      <td>NaN</td>\n",
              "      <td>Сотрудник \\ Рабочий \\ Ассистент</td>\n",
              "      <td>NaN</td>\n",
              "      <td>0</td>\n",
              "      <td>32</td>\n",
              "      <td>Высшее образование</td>\n",
              "      <td>Образование</td>\n",
              "      <td>1.0</td>\n",
              "      <td>4.666666</td>\n",
              "      <td>1</td>\n",
              "      <td>Мензелинский</td>\n",
              "      <td>село</td>\n",
              "      <td>Выписка по счету</td>\n",
              "      <td>1</td>\n",
              "      <td>0</td>\n",
              "      <td>Частичная или временная занятость</td>\n",
              "      <td>29736.21</td>\n",
              "    </tr>\n",
              "    <tr>\n",
              "      <th>8143</th>\n",
              "      <td>2017-06-01</td>\n",
              "      <td>0</td>\n",
              "      <td>162163.00</td>\n",
              "      <td>по найму</td>\n",
              "      <td>Сотрудник \\ Рабочий \\ Ассистент</td>\n",
              "      <td>NaN</td>\n",
              "      <td>0</td>\n",
              "      <td>45</td>\n",
              "      <td>Среднее специальное образование</td>\n",
              "      <td>Правоохр.органы (МинОбороны, МинЮстиции)</td>\n",
              "      <td>3.0</td>\n",
              "      <td>4.083333</td>\n",
              "      <td>0</td>\n",
              "      <td>Зеленодольский</td>\n",
              "      <td>село</td>\n",
              "      <td>2-НДФЛ</td>\n",
              "      <td>0</td>\n",
              "      <td>0</td>\n",
              "      <td>Частичная или временная занятость</td>\n",
              "      <td>28538.99</td>\n",
              "    </tr>\n",
              "    <tr>\n",
              "      <th>8290</th>\n",
              "      <td>2018-09-26</td>\n",
              "      <td>0</td>\n",
              "      <td>2700000.00</td>\n",
              "      <td>NaN</td>\n",
              "      <td>Сотрудник \\ Рабочий \\ Ассистент</td>\n",
              "      <td>NaN</td>\n",
              "      <td>1</td>\n",
              "      <td>33</td>\n",
              "      <td>Высшее образование</td>\n",
              "      <td>Государственная служба</td>\n",
              "      <td>2.0</td>\n",
              "      <td>14.000000</td>\n",
              "      <td>2</td>\n",
              "      <td>Казань</td>\n",
              "      <td>село</td>\n",
              "      <td>2-НДФЛ</td>\n",
              "      <td>0</td>\n",
              "      <td>0</td>\n",
              "      <td>Частичная или временная занятость</td>\n",
              "      <td>51017.82</td>\n",
              "    </tr>\n",
              "    <tr>\n",
              "      <th>8297</th>\n",
              "      <td>2018-11-23</td>\n",
              "      <td>1</td>\n",
              "      <td>150000.00</td>\n",
              "      <td>NaN</td>\n",
              "      <td>Сотрудник \\ Рабочий \\ Ассистент</td>\n",
              "      <td>NaN</td>\n",
              "      <td>1</td>\n",
              "      <td>38</td>\n",
              "      <td>Незаконченное высшее образование</td>\n",
              "      <td>Правоохр.органы (МинОбороны, МинЮстиции)</td>\n",
              "      <td>3.0</td>\n",
              "      <td>9.000000</td>\n",
              "      <td>2</td>\n",
              "      <td>Псков</td>\n",
              "      <td>город</td>\n",
              "      <td>2-НДФЛ</td>\n",
              "      <td>0</td>\n",
              "      <td>0</td>\n",
              "      <td>Частичная или временная занятость</td>\n",
              "      <td>23830.00</td>\n",
              "    </tr>\n",
              "    <tr>\n",
              "      <th>9591</th>\n",
              "      <td>2018-08-07</td>\n",
              "      <td>0</td>\n",
              "      <td>322500.00</td>\n",
              "      <td>NaN</td>\n",
              "      <td>Сотрудник \\ Рабочий \\ Ассистент</td>\n",
              "      <td>NaN</td>\n",
              "      <td>1</td>\n",
              "      <td>24</td>\n",
              "      <td>Среднее специальное образование</td>\n",
              "      <td>Правоохр.органы (МинОбороны, МинЮстиции)</td>\n",
              "      <td>3.0</td>\n",
              "      <td>7.000000</td>\n",
              "      <td>0</td>\n",
              "      <td>Псков</td>\n",
              "      <td>город</td>\n",
              "      <td>2-НДФЛ</td>\n",
              "      <td>0</td>\n",
              "      <td>0</td>\n",
              "      <td>Частичная или временная занятость</td>\n",
              "      <td>51682.17</td>\n",
              "    </tr>\n",
              "    <tr>\n",
              "      <th>9999</th>\n",
              "      <td>2017-02-08</td>\n",
              "      <td>0</td>\n",
              "      <td>422833.00</td>\n",
              "      <td>по найму</td>\n",
              "      <td>Руководитель высшего звена</td>\n",
              "      <td>NaN</td>\n",
              "      <td>1</td>\n",
              "      <td>52</td>\n",
              "      <td>Высшее образование</td>\n",
              "      <td>Образование</td>\n",
              "      <td>0.0</td>\n",
              "      <td>16.083333</td>\n",
              "      <td>0</td>\n",
              "      <td>Казань</td>\n",
              "      <td>город</td>\n",
              "      <td>2-НДФЛ</td>\n",
              "      <td>1</td>\n",
              "      <td>0</td>\n",
              "      <td>Частичная или временная занятость</td>\n",
              "      <td>42050.00</td>\n",
              "    </tr>\n",
              "    <tr>\n",
              "      <th>10005</th>\n",
              "      <td>2017-04-13</td>\n",
              "      <td>0</td>\n",
              "      <td>500000.00</td>\n",
              "      <td>по найму</td>\n",
              "      <td>Сотрудник \\ Рабочий \\ Ассистент</td>\n",
              "      <td>NaN</td>\n",
              "      <td>1</td>\n",
              "      <td>22</td>\n",
              "      <td>Среднее образование</td>\n",
              "      <td>Нефть, нефтепереработка, газ</td>\n",
              "      <td>3.0</td>\n",
              "      <td>2.000000</td>\n",
              "      <td>0</td>\n",
              "      <td>Альметьевский</td>\n",
              "      <td>село</td>\n",
              "      <td>2-НДФЛ</td>\n",
              "      <td>0</td>\n",
              "      <td>0</td>\n",
              "      <td>Частичная или временная занятость</td>\n",
              "      <td>42215.48</td>\n",
              "    </tr>\n",
              "    <tr>\n",
              "      <th>10622</th>\n",
              "      <td>2018-03-20</td>\n",
              "      <td>0</td>\n",
              "      <td>146250.00</td>\n",
              "      <td>по найму</td>\n",
              "      <td>Сотрудник \\ Рабочий \\ Ассистент</td>\n",
              "      <td>NaN</td>\n",
              "      <td>0</td>\n",
              "      <td>47</td>\n",
              "      <td>Высшее образование</td>\n",
              "      <td>Прочее</td>\n",
              "      <td>2.0</td>\n",
              "      <td>0.666666</td>\n",
              "      <td>0</td>\n",
              "      <td>Чистопольский</td>\n",
              "      <td>село</td>\n",
              "      <td>2-НДФЛ</td>\n",
              "      <td>0</td>\n",
              "      <td>0</td>\n",
              "      <td>Частичная или временная занятость</td>\n",
              "      <td>13066.10</td>\n",
              "    </tr>\n",
              "  </tbody>\n",
              "</table>\n",
              "</div>"
            ],
            "text/plain": [
              "      RequestDate  ...  ConfirmedMonthlyIncome (Target)\n",
              "1009   2018-11-13  ...                         21217.56\n",
              "2286   2018-11-12  ...                         35178.86\n",
              "4152   2017-06-28  ...                         16229.88\n",
              "4885   2018-07-16  ...                        105257.97\n",
              "5720   2017-03-23  ...                         20814.32\n",
              "6707   2018-09-04  ...                         42060.55\n",
              "7463   2018-03-02  ...                         23120.36\n",
              "7708   2018-10-24  ...                         29736.21\n",
              "8143   2017-06-01  ...                         28538.99\n",
              "8290   2018-09-26  ...                         51017.82\n",
              "8297   2018-11-23  ...                         23830.00\n",
              "9591   2018-08-07  ...                         51682.17\n",
              "9999   2017-02-08  ...                         42050.00\n",
              "10005  2017-04-13  ...                         42215.48\n",
              "10622  2018-03-20  ...                         13066.10\n",
              "\n",
              "[15 rows x 20 columns]"
            ]
          },
          "metadata": {},
          "execution_count": 15
        }
      ]
    },
    {
      "cell_type": "code",
      "source": [
        "data.drop('harakteristika_tekutschego_trudoustrojstva', axis=1, inplace=True)"
      ],
      "metadata": {
        "cellId": "2j6jh6xv7znsvv5pg2vam",
        "trusted": true,
        "id": "pTiEx9UO6yUl"
      },
      "outputs": [],
      "execution_count": 15,
      "id": "pTiEx9UO6yUl"
    },
    {
      "cell_type": "code",
      "source": [
        "data['EducationStatus'].unique()"
      ],
      "metadata": {
        "cellId": "lqp7mjzfz5972dbgwjg9l",
        "trusted": true,
        "colab": {
          "base_uri": "https://localhost:8080/"
        },
        "id": "kSdRsidk6yUl",
        "outputId": "51c195f5-3b9e-4d92-d5e1-fe5c3ac1c2ff"
      },
      "outputs": [
        {
          "output_type": "execute_result",
          "data": {
            "text/plain": [
              "array(['Высшее образование', 'Среднее специальное образование',\n",
              "       'Несколько высших образований', 'Среднее образование',\n",
              "       'Незаконченное высшее образование',\n",
              "       'Академическая степень (кандидат наук, доктор наук и т.д.)',\n",
              "       'Незаконченное среднее образование'], dtype=object)"
            ]
          },
          "metadata": {},
          "execution_count": 16
        }
      ],
      "execution_count": 16,
      "id": "kSdRsidk6yUl"
    },
    {
      "cell_type": "markdown",
      "source": [
        "Единственная строка, где otrasl_rabotodatelya и kolichestvo_rabotnikov_v_organizacii — NaN. Эту строку точно следует убрать."
      ],
      "metadata": {
        "cellId": "tdbilkpo39srvkrydq9eid",
        "id": "rD3_9awa6yUn"
      },
      "id": "rD3_9awa6yUn"
    },
    {
      "cell_type": "code",
      "source": [
        "data[data['kolichestvo_rabotnikov_v_organizacii'].isnull()]"
      ],
      "metadata": {
        "cellId": "ukf7p34o2tpe89q9awujn",
        "trusted": true,
        "colab": {
          "base_uri": "https://localhost:8080/",
          "height": 135
        },
        "id": "nrV8wEIE6yUn",
        "outputId": "93bc0cb1-b6c0-4951-cf0e-9fc7825eab23"
      },
      "outputs": [
        {
          "output_type": "execute_result",
          "data": {
            "text/html": [
              "<div>\n",
              "<style scoped>\n",
              "    .dataframe tbody tr th:only-of-type {\n",
              "        vertical-align: middle;\n",
              "    }\n",
              "\n",
              "    .dataframe tbody tr th {\n",
              "        vertical-align: top;\n",
              "    }\n",
              "\n",
              "    .dataframe thead th {\n",
              "        text-align: right;\n",
              "    }\n",
              "</style>\n",
              "<table border=\"1\" class=\"dataframe\">\n",
              "  <thead>\n",
              "    <tr style=\"text-align: right;\">\n",
              "      <th></th>\n",
              "      <th>RequestDate</th>\n",
              "      <th>ProductName</th>\n",
              "      <th>CreditSum</th>\n",
              "      <th>TypeOfWork</th>\n",
              "      <th>Employment</th>\n",
              "      <th>SignIP</th>\n",
              "      <th>sex</th>\n",
              "      <th>age</th>\n",
              "      <th>EducationStatus</th>\n",
              "      <th>otrasl_rabotodatelya</th>\n",
              "      <th>kolichestvo_rabotnikov_v_organizacii</th>\n",
              "      <th>OrgStanding_N</th>\n",
              "      <th>kolichestvo_detej_mladshe_18</th>\n",
              "      <th>LivingRegionName</th>\n",
              "      <th>Residence</th>\n",
              "      <th>IncomeDocumentKind</th>\n",
              "      <th>HaveSalaryCard</th>\n",
              "      <th>IsBankWorker</th>\n",
              "      <th>ConfirmedMonthlyIncome (Target)</th>\n",
              "    </tr>\n",
              "  </thead>\n",
              "  <tbody>\n",
              "    <tr>\n",
              "      <th>10568</th>\n",
              "      <td>2018-04-19</td>\n",
              "      <td>0</td>\n",
              "      <td>562500.0</td>\n",
              "      <td>Индивидуальный предприниматель</td>\n",
              "      <td>NaN</td>\n",
              "      <td>ИП</td>\n",
              "      <td>1</td>\n",
              "      <td>38</td>\n",
              "      <td>Высшее образование</td>\n",
              "      <td>NaN</td>\n",
              "      <td>NaN</td>\n",
              "      <td>1.25</td>\n",
              "      <td>2</td>\n",
              "      <td>Барнаул</td>\n",
              "      <td>город</td>\n",
              "      <td>Иное</td>\n",
              "      <td>0</td>\n",
              "      <td>0</td>\n",
              "      <td>220834.0</td>\n",
              "    </tr>\n",
              "  </tbody>\n",
              "</table>\n",
              "</div>"
            ],
            "text/plain": [
              "      RequestDate  ProductName  ...  IsBankWorker ConfirmedMonthlyIncome (Target)\n",
              "10568  2018-04-19            0  ...             0                        220834.0\n",
              "\n",
              "[1 rows x 19 columns]"
            ]
          },
          "metadata": {},
          "execution_count": 18
        }
      ],
      "execution_count": 18,
      "id": "nrV8wEIE6yUn"
    },
    {
      "cell_type": "code",
      "source": [
        "data.drop(10568, inplace=True)\n",
        "data[data['kolichestvo_rabotnikov_v_organizacii'].isnull()]"
      ],
      "metadata": {
        "cellId": "qufumi58ijbqnqxowurvtr",
        "trusted": true,
        "colab": {
          "base_uri": "https://localhost:8080/",
          "height": 87
        },
        "id": "4_kW5oWF6yUo",
        "outputId": "38fff6bf-3dbf-4a4e-80ca-566ea2b7ce4d"
      },
      "outputs": [
        {
          "output_type": "execute_result",
          "data": {
            "text/html": [
              "<div>\n",
              "<style scoped>\n",
              "    .dataframe tbody tr th:only-of-type {\n",
              "        vertical-align: middle;\n",
              "    }\n",
              "\n",
              "    .dataframe tbody tr th {\n",
              "        vertical-align: top;\n",
              "    }\n",
              "\n",
              "    .dataframe thead th {\n",
              "        text-align: right;\n",
              "    }\n",
              "</style>\n",
              "<table border=\"1\" class=\"dataframe\">\n",
              "  <thead>\n",
              "    <tr style=\"text-align: right;\">\n",
              "      <th></th>\n",
              "      <th>RequestDate</th>\n",
              "      <th>ProductName</th>\n",
              "      <th>CreditSum</th>\n",
              "      <th>TypeOfWork</th>\n",
              "      <th>Employment</th>\n",
              "      <th>SignIP</th>\n",
              "      <th>sex</th>\n",
              "      <th>age</th>\n",
              "      <th>EducationStatus</th>\n",
              "      <th>otrasl_rabotodatelya</th>\n",
              "      <th>kolichestvo_rabotnikov_v_organizacii</th>\n",
              "      <th>OrgStanding_N</th>\n",
              "      <th>kolichestvo_detej_mladshe_18</th>\n",
              "      <th>LivingRegionName</th>\n",
              "      <th>Residence</th>\n",
              "      <th>IncomeDocumentKind</th>\n",
              "      <th>HaveSalaryCard</th>\n",
              "      <th>IsBankWorker</th>\n",
              "      <th>ConfirmedMonthlyIncome (Target)</th>\n",
              "    </tr>\n",
              "  </thead>\n",
              "  <tbody>\n",
              "  </tbody>\n",
              "</table>\n",
              "</div>"
            ],
            "text/plain": [
              "Empty DataFrame\n",
              "Columns: [RequestDate, ProductName, CreditSum, TypeOfWork, Employment, SignIP, sex, age, EducationStatus, otrasl_rabotodatelya, kolichestvo_rabotnikov_v_organizacii, OrgStanding_N, kolichestvo_detej_mladshe_18, LivingRegionName, Residence, IncomeDocumentKind, HaveSalaryCard, IsBankWorker, ConfirmedMonthlyIncome (Target)]\n",
              "Index: []"
            ]
          },
          "metadata": {},
          "execution_count": 19
        }
      ],
      "execution_count": 19,
      "id": "4_kW5oWF6yUo"
    },
    {
      "cell_type": "markdown",
      "source": [
        "Далее подробно рассмотрим столбец SignIP.\n",
        "Этот столбец содержит только 2 возможных значения: None и ИП."
      ],
      "metadata": {
        "cellId": "syodq5c0ud3zkbjsn67lk",
        "id": "BAXb872O6yUo"
      },
      "id": "BAXb872O6yUo"
    },
    {
      "cell_type": "code",
      "source": [
        "data['SignIP'].unique(), data['SignIP'].value_counts()"
      ],
      "metadata": {
        "cellId": "s11c07txc58ae16jnfsl4h",
        "trusted": true,
        "colab": {
          "base_uri": "https://localhost:8080/"
        },
        "id": "_ngUAacK6yUo",
        "outputId": "fc969558-d51b-48c5-bdf9-283412e17115"
      },
      "outputs": [
        {
          "output_type": "execute_result",
          "data": {
            "text/plain": [
              "(array([nan, 'ИП'], dtype=object), ИП    71\n",
              " Name: SignIP, dtype: int64)"
            ]
          },
          "metadata": {},
          "execution_count": 20
        }
      ],
      "execution_count": 20,
      "id": "_ngUAacK6yUo"
    },
    {
      "cell_type": "markdown",
      "source": [
        "Отделим строки, у которых значение — ИП, и проанализируем их."
      ],
      "metadata": {
        "cellId": "tm4x71adtpdeckbwzkerf",
        "id": "-7ISs_Lv6yUp"
      },
      "id": "-7ISs_Lv6yUp"
    },
    {
      "cell_type": "code",
      "source": [
        "dataIP = data[~data['SignIP'].isnull()]\n",
        "dataIP.head()"
      ],
      "metadata": {
        "cellId": "lsqrk5l8tkj7bn4vs5wsqj",
        "trusted": true,
        "colab": {
          "base_uri": "https://localhost:8080/",
          "height": 417
        },
        "id": "dTmL5_gY6yUp",
        "outputId": "6f7fe3c4-2206-4627-b14b-4dd11b70e6e2"
      },
      "outputs": [
        {
          "output_type": "execute_result",
          "data": {
            "text/html": [
              "<div>\n",
              "<style scoped>\n",
              "    .dataframe tbody tr th:only-of-type {\n",
              "        vertical-align: middle;\n",
              "    }\n",
              "\n",
              "    .dataframe tbody tr th {\n",
              "        vertical-align: top;\n",
              "    }\n",
              "\n",
              "    .dataframe thead th {\n",
              "        text-align: right;\n",
              "    }\n",
              "</style>\n",
              "<table border=\"1\" class=\"dataframe\">\n",
              "  <thead>\n",
              "    <tr style=\"text-align: right;\">\n",
              "      <th></th>\n",
              "      <th>RequestDate</th>\n",
              "      <th>ProductName</th>\n",
              "      <th>CreditSum</th>\n",
              "      <th>TypeOfWork</th>\n",
              "      <th>Employment</th>\n",
              "      <th>SignIP</th>\n",
              "      <th>sex</th>\n",
              "      <th>age</th>\n",
              "      <th>EducationStatus</th>\n",
              "      <th>otrasl_rabotodatelya</th>\n",
              "      <th>kolichestvo_rabotnikov_v_organizacii</th>\n",
              "      <th>OrgStanding_N</th>\n",
              "      <th>kolichestvo_detej_mladshe_18</th>\n",
              "      <th>LivingRegionName</th>\n",
              "      <th>Residence</th>\n",
              "      <th>IncomeDocumentKind</th>\n",
              "      <th>HaveSalaryCard</th>\n",
              "      <th>IsBankWorker</th>\n",
              "      <th>ConfirmedMonthlyIncome (Target)</th>\n",
              "    </tr>\n",
              "  </thead>\n",
              "  <tbody>\n",
              "    <tr>\n",
              "      <th>7</th>\n",
              "      <td>2018-11-12</td>\n",
              "      <td>0</td>\n",
              "      <td>710000.00</td>\n",
              "      <td>Собственное дело</td>\n",
              "      <td>Руководитель высшего звена</td>\n",
              "      <td>ИП</td>\n",
              "      <td>1</td>\n",
              "      <td>34</td>\n",
              "      <td>Высшее образование</td>\n",
              "      <td>Архитектура, проектирование и конструирование</td>\n",
              "      <td>0.0</td>\n",
              "      <td>9.250000</td>\n",
              "      <td>2</td>\n",
              "      <td>Самара</td>\n",
              "      <td>город</td>\n",
              "      <td>Справка по форме Банка от работодателя</td>\n",
              "      <td>0</td>\n",
              "      <td>0</td>\n",
              "      <td>100050.00</td>\n",
              "    </tr>\n",
              "    <tr>\n",
              "      <th>130</th>\n",
              "      <td>2018-11-13</td>\n",
              "      <td>0</td>\n",
              "      <td>1362901.43</td>\n",
              "      <td>Собственное дело</td>\n",
              "      <td>Руководитель высшего звена</td>\n",
              "      <td>ИП</td>\n",
              "      <td>1</td>\n",
              "      <td>30</td>\n",
              "      <td>Высшее образование</td>\n",
              "      <td>Торговля и бытовые услуги населению</td>\n",
              "      <td>0.0</td>\n",
              "      <td>3.000000</td>\n",
              "      <td>1</td>\n",
              "      <td>Пермь</td>\n",
              "      <td>город</td>\n",
              "      <td>Справка по форме Банка от работодателя</td>\n",
              "      <td>0</td>\n",
              "      <td>0</td>\n",
              "      <td>195264.17</td>\n",
              "    </tr>\n",
              "    <tr>\n",
              "      <th>162</th>\n",
              "      <td>2018-11-01</td>\n",
              "      <td>0</td>\n",
              "      <td>1000000.00</td>\n",
              "      <td>Собственное дело</td>\n",
              "      <td>Главный Специалист\\Руководитель среднего звена</td>\n",
              "      <td>ИП</td>\n",
              "      <td>1</td>\n",
              "      <td>32</td>\n",
              "      <td>Высшее образование</td>\n",
              "      <td>Торговля и бытовые услуги населению</td>\n",
              "      <td>0.0</td>\n",
              "      <td>5.500000</td>\n",
              "      <td>1</td>\n",
              "      <td>Казань</td>\n",
              "      <td>город</td>\n",
              "      <td>Справка по форме Банка от работодателя</td>\n",
              "      <td>0</td>\n",
              "      <td>0</td>\n",
              "      <td>213183.67</td>\n",
              "    </tr>\n",
              "    <tr>\n",
              "      <th>555</th>\n",
              "      <td>2018-07-27</td>\n",
              "      <td>0</td>\n",
              "      <td>944850.81</td>\n",
              "      <td>Собственное дело</td>\n",
              "      <td>Руководитель высшего звена</td>\n",
              "      <td>ИП</td>\n",
              "      <td>1</td>\n",
              "      <td>47</td>\n",
              "      <td>Высшее образование</td>\n",
              "      <td>Прочее</td>\n",
              "      <td>1.0</td>\n",
              "      <td>10.916666</td>\n",
              "      <td>0</td>\n",
              "      <td>Йошкар-Ола</td>\n",
              "      <td>город</td>\n",
              "      <td>Справка по форме Банка от работодателя</td>\n",
              "      <td>0</td>\n",
              "      <td>0</td>\n",
              "      <td>69600.00</td>\n",
              "    </tr>\n",
              "    <tr>\n",
              "      <th>755</th>\n",
              "      <td>2018-12-13</td>\n",
              "      <td>0</td>\n",
              "      <td>636000.00</td>\n",
              "      <td>Собственное дело</td>\n",
              "      <td>Руководитель высшего звена</td>\n",
              "      <td>ИП</td>\n",
              "      <td>1</td>\n",
              "      <td>30</td>\n",
              "      <td>Высшее образование</td>\n",
              "      <td>Прочее</td>\n",
              "      <td>0.0</td>\n",
              "      <td>1.083333</td>\n",
              "      <td>1</td>\n",
              "      <td>Ставрополь</td>\n",
              "      <td>город</td>\n",
              "      <td>Справка по форме Банка от работодателя</td>\n",
              "      <td>0</td>\n",
              "      <td>0</td>\n",
              "      <td>60357.00</td>\n",
              "    </tr>\n",
              "  </tbody>\n",
              "</table>\n",
              "</div>"
            ],
            "text/plain": [
              "    RequestDate  ProductName  ...  IsBankWorker ConfirmedMonthlyIncome (Target)\n",
              "7    2018-11-12            0  ...             0                       100050.00\n",
              "130  2018-11-13            0  ...             0                       195264.17\n",
              "162  2018-11-01            0  ...             0                       213183.67\n",
              "555  2018-07-27            0  ...             0                        69600.00\n",
              "755  2018-12-13            0  ...             0                        60357.00\n",
              "\n",
              "[5 rows x 19 columns]"
            ]
          },
          "metadata": {},
          "execution_count": 21
        }
      ],
      "execution_count": 21,
      "id": "dTmL5_gY6yUp"
    },
    {
      "cell_type": "markdown",
      "source": [
        "Количества уникальных значений некоторых столбцов в этой выборке:"
      ],
      "metadata": {
        "cellId": "q3rqigau91empzd0ef7hv",
        "id": "E5RX6vLB6yUq"
      },
      "id": "E5RX6vLB6yUq"
    },
    {
      "cell_type": "code",
      "source": [
        "dataIP['TypeOfWork'].value_counts(), dataIP['Employment'].value_counts(), dataIP['IncomeDocumentKind'].value_counts(), dataIP['kolichestvo_rabotnikov_v_organizacii'].value_counts()"
      ],
      "metadata": {
        "cellId": "s6m37m0w37oc8akkg0lzgr",
        "trusted": true,
        "colab": {
          "base_uri": "https://localhost:8080/"
        },
        "id": "_1mSuA1Z6yUq",
        "outputId": "269598d5-35f0-4172-e934-59574024d1c4"
      },
      "outputs": [
        {
          "output_type": "execute_result",
          "data": {
            "text/plain": [
              "(Собственное дело                  54\n",
              " Индивидуальный предприниматель    17\n",
              " Name: TypeOfWork, dtype: int64,\n",
              " Руководитель высшего звена                        54\n",
              " Главный Специалист\\Руководитель среднего звена     8\n",
              " Сотрудник \\ Рабочий \\ Ассистент                    4\n",
              " Индивидуальный предприниматель                     2\n",
              " нет данных                                         2\n",
              " Name: Employment, dtype: int64,\n",
              " Справка по форме Банка от работодателя    35\n",
              " 2-НДФЛ                                    18\n",
              " Иное                                      15\n",
              " Выписка по счету                           3\n",
              " Name: IncomeDocumentKind, dtype: int64,\n",
              " 0.0    48\n",
              " 1.0    22\n",
              " 2.0     1\n",
              " Name: kolichestvo_rabotnikov_v_organizacii, dtype: int64)"
            ]
          },
          "metadata": {},
          "execution_count": 22
        }
      ],
      "execution_count": 22,
      "id": "_1mSuA1Z6yUq"
    },
    {
      "cell_type": "markdown",
      "source": [
        "Количества уникальных значений тех же столбцов в изначальной выборке:"
      ],
      "metadata": {
        "cellId": "ds7s50jfl8kc5jol44q0xm",
        "id": "raijlha86yUq"
      },
      "id": "raijlha86yUq"
    },
    {
      "cell_type": "code",
      "source": [
        "data['TypeOfWork'].value_counts(), data['Employment'].value_counts(), data['IncomeDocumentKind'].value_counts(), data['kolichestvo_rabotnikov_v_organizacii'].value_counts()"
      ],
      "metadata": {
        "cellId": "0bg14bx31bq70wwdezq84cd",
        "trusted": true,
        "colab": {
          "base_uri": "https://localhost:8080/"
        },
        "id": "boGPIp2-6yUr",
        "outputId": "a56873e9-dd7b-485b-843e-d143c8f96840"
      },
      "outputs": [
        {
          "output_type": "execute_result",
          "data": {
            "text/plain": [
              "(по найму                          6074\n",
              " Собственное дело                    54\n",
              " Индивидуальный предприниматель      17\n",
              " Агент на комиссионом договоре        5\n",
              " Name: TypeOfWork, dtype: int64,\n",
              " Сотрудник \\ Рабочий \\ Ассистент                   7557\n",
              " Главный Специалист\\Руководитель среднего звена    1624\n",
              " Эксперт\\Старший или Ведущий Специалист             847\n",
              " Руководитель высшего звена                         679\n",
              " нет данных                                           6\n",
              " Индивидуальный предприниматель                       3\n",
              " Name: Employment, dtype: int64,\n",
              " 2-НДФЛ                                    5370\n",
              " Выписка по счету                          4402\n",
              " Справка по форме Банка от работодателя     772\n",
              " Иное                                        43\n",
              " Нет (не предоставлен)                        1\n",
              " Name: IncomeDocumentKind, dtype: int64,\n",
              " 3.0    4958\n",
              " 1.0    2649\n",
              " 2.0    2129\n",
              " 0.0     982\n",
              " Name: kolichestvo_rabotnikov_v_organizacii, dtype: int64)"
            ]
          },
          "metadata": {},
          "execution_count": 23
        }
      ],
      "execution_count": 23,
      "id": "boGPIp2-6yUr"
    },
    {
      "cell_type": "markdown",
      "source": [
        "Можно заметить, что в ИП в столбце SignIP стоит у тех и только у тех людей, у которых TypeOfWork — \"Собственное дело\" или \"Индивидуальный предприниматель\"\n",
        "\n",
        "Это означает, что NaN в столбце SignIP — не пропуск в данных. На самом деле SignIP — бинарный признак, а NaN и ИП — его значения. \n",
        "\n",
        "Закодируем признак через 0 и 1."
      ],
      "metadata": {
        "cellId": "hi7n0dospguna2lbrohde",
        "id": "6jZwzYNt6yUr"
      },
      "id": "6jZwzYNt6yUr"
    },
    {
      "cell_type": "code",
      "source": [
        "data['SignIP'] = data['SignIP'].replace({None: 0, 'ИП': 1})\n",
        "data['SignIP'].value_counts()\n",
        "#data.head()"
      ],
      "metadata": {
        "cellId": "qewyzqk46ucfpyiglofrrv",
        "trusted": true,
        "colab": {
          "base_uri": "https://localhost:8080/"
        },
        "id": "Kr4hBywU6yUr",
        "outputId": "73a9e291-020c-4fa8-ed57-610348e4ec82"
      },
      "outputs": [
        {
          "output_type": "execute_result",
          "data": {
            "text/plain": [
              "0    10647\n",
              "1       71\n",
              "Name: SignIP, dtype: int64"
            ]
          },
          "metadata": {},
          "execution_count": 24
        }
      ],
      "execution_count": 24,
      "id": "Kr4hBywU6yUr"
    },
    {
      "cell_type": "markdown",
      "source": [
        "Рассмотрим промежуточные результаты"
      ],
      "metadata": {
        "cellId": "77ut4lkf8sgokyz7vx9tt",
        "id": "LpIBm1TN6yUs"
      },
      "id": "LpIBm1TN6yUs"
    },
    {
      "cell_type": "code",
      "source": [
        "data.info()"
      ],
      "metadata": {
        "cellId": "dbwyzw3izoe8avlxsii592",
        "trusted": true,
        "colab": {
          "base_uri": "https://localhost:8080/"
        },
        "id": "GnW95zol6yUs",
        "outputId": "eadf8204-1f98-41ac-f026-d74a4a2c49cc"
      },
      "outputs": [
        {
          "output_type": "stream",
          "name": "stdout",
          "text": [
            "<class 'pandas.core.frame.DataFrame'>\n",
            "Int64Index: 10718 entries, 0 to 10718\n",
            "Data columns (total 19 columns):\n",
            " #   Column                                Non-Null Count  Dtype         \n",
            "---  ------                                --------------  -----         \n",
            " 0   RequestDate                           10718 non-null  datetime64[ns]\n",
            " 1   ProductName                           10718 non-null  int64         \n",
            " 2   CreditSum                             10712 non-null  float64       \n",
            " 3   TypeOfWork                            6150 non-null   object        \n",
            " 4   Employment                            10716 non-null  object        \n",
            " 5   SignIP                                10718 non-null  int64         \n",
            " 6   sex                                   10718 non-null  int64         \n",
            " 7   age                                   10718 non-null  int64         \n",
            " 8   EducationStatus                       10718 non-null  object        \n",
            " 9   otrasl_rabotodatelya                  10718 non-null  object        \n",
            " 10  kolichestvo_rabotnikov_v_organizacii  10718 non-null  float64       \n",
            " 11  OrgStanding_N                         10718 non-null  float64       \n",
            " 12  kolichestvo_detej_mladshe_18          10718 non-null  int64         \n",
            " 13  LivingRegionName                      10718 non-null  object        \n",
            " 14  Residence                             9896 non-null   object        \n",
            " 15  IncomeDocumentKind                    10588 non-null  object        \n",
            " 16  HaveSalaryCard                        10718 non-null  int64         \n",
            " 17  IsBankWorker                          10718 non-null  int64         \n",
            " 18  ConfirmedMonthlyIncome (Target)       10718 non-null  float64       \n",
            "dtypes: datetime64[ns](1), float64(4), int64(7), object(7)\n",
            "memory usage: 1.6+ MB\n"
          ]
        }
      ],
      "execution_count": 25,
      "id": "GnW95zol6yUs"
    },
    {
      "cell_type": "code",
      "source": [
        "#data[data['CreditSum'].isnull()]"
      ],
      "metadata": {
        "cellId": "0qbjks5sbo8jqvetd24tytb",
        "trusted": true,
        "id": "JXx9JgNp6yUt"
      },
      "outputs": [],
      "execution_count": 26,
      "id": "JXx9JgNp6yUt"
    },
    {
      "cell_type": "code",
      "source": [
        "#data.drop(data[(data['CreditSum'].isnull()) | (data['Employment'].isnull()) | (data['IncomeDocumentKind'].isnull())].index, inplace=True, axis=0)\n",
        "#data.info()"
      ],
      "metadata": {
        "cellId": "7dgbgl6nh25hyb986rrczw",
        "trusted": true,
        "id": "HArGhlt36yUt"
      },
      "outputs": [],
      "execution_count": 27,
      "id": "HArGhlt36yUt"
    },
    {
      "cell_type": "markdown",
      "source": [
        "Столбец Employment содержит 6 значений \"нет данных\" и 2 NaN.\n",
        "\n",
        "Также столбец содержит всего 3 значения \"Индивидуальный предприниматель\", что абсолютно нерепрезентативно.\n",
        "\n",
        "Удалим все эти значения."
      ],
      "metadata": {
        "id": "eQdLWfru-xtI"
      },
      "id": "eQdLWfru-xtI"
    },
    {
      "cell_type": "code",
      "source": [
        "data['Employment'].unique(), data['Employment'].value_counts()"
      ],
      "metadata": {
        "cellId": "ngm2i75rwk1ou0h7yh2jw",
        "trusted": true,
        "colab": {
          "base_uri": "https://localhost:8080/"
        },
        "id": "ttmhWy7Q6yUt",
        "outputId": "3198735e-0d1a-422e-bffb-7197ae209625"
      },
      "outputs": [
        {
          "output_type": "execute_result",
          "data": {
            "text/plain": [
              "(array(['Сотрудник \\\\ Рабочий \\\\ Ассистент',\n",
              "        'Главный Специалист\\\\Руководитель среднего звена',\n",
              "        'Руководитель высшего звена',\n",
              "        'Эксперт\\\\Старший или Ведущий Специалист',\n",
              "        'Индивидуальный предприниматель', 'нет данных', nan], dtype=object),\n",
              " Сотрудник \\ Рабочий \\ Ассистент                   7557\n",
              " Главный Специалист\\Руководитель среднего звена    1624\n",
              " Эксперт\\Старший или Ведущий Специалист             847\n",
              " Руководитель высшего звена                         679\n",
              " нет данных                                           6\n",
              " Индивидуальный предприниматель                       3\n",
              " Name: Employment, dtype: int64)"
            ]
          },
          "metadata": {},
          "execution_count": 33
        }
      ],
      "execution_count": 33,
      "id": "ttmhWy7Q6yUt"
    },
    {
      "cell_type": "code",
      "source": [
        "data.drop(data[(data['Employment'].isnull()) | (data['Employment'] == 'нет данных') | (data['Employment'] == 'Индивидуальный предприниматель')].index, inplace=True, axis=0)\n",
        "data['Employment'].unique(), data['Employment'].value_counts()"
      ],
      "metadata": {
        "id": "s6l7CuSdK6L_",
        "outputId": "396b8667-59b7-46ff-aada-b4b5621ee062",
        "colab": {
          "base_uri": "https://localhost:8080/"
        }
      },
      "id": "s6l7CuSdK6L_",
      "execution_count": 16,
      "outputs": [
        {
          "output_type": "execute_result",
          "data": {
            "text/plain": [
              "(array(['Сотрудник \\\\ Рабочий \\\\ Ассистент',\n",
              "        'Главный Специалист\\\\Руководитель среднего звена',\n",
              "        'Руководитель высшего звена',\n",
              "        'Эксперт\\\\Старший или Ведущий Специалист'], dtype=object),\n",
              " Сотрудник \\ Рабочий \\ Ассистент                   7557\n",
              " Главный Специалист\\Руководитель среднего звена    1624\n",
              " Эксперт\\Старший или Ведущий Специалист             847\n",
              " Руководитель высшего звена                         679\n",
              " Name: Employment, dtype: int64)"
            ]
          },
          "metadata": {},
          "execution_count": 16
        }
      ]
    },
    {
      "cell_type": "markdown",
      "source": [
        "Оставшиеся в столбце значения мы можем отранжировать в порядке возрастания уровня должности."
      ],
      "metadata": {
        "id": "NCYAbeEgLSnG"
      },
      "id": "NCYAbeEgLSnG"
    },
    {
      "cell_type": "code",
      "source": [
        "data['Employment'] = data['Employment'].map({\"Сотрудник \\ Рабочий \\ Ассистент\": 0, \"Главный Специалист\\Руководитель среднего звена\": 1, \"Эксперт\\Старший или Ведущий Специалист\": 3, \"Руководитель высшего звена\": 4})\n",
        "data['Employment'].unique(), data['Employment'].value_counts()"
      ],
      "metadata": {
        "id": "DiY0VRbnLeh2",
        "outputId": "6ce01cab-28f1-4dac-a59c-15143fa83715",
        "colab": {
          "base_uri": "https://localhost:8080/"
        }
      },
      "id": "DiY0VRbnLeh2",
      "execution_count": 19,
      "outputs": [
        {
          "output_type": "execute_result",
          "data": {
            "text/plain": [
              "(array([0, 1, 4, 3]), 0    7557\n",
              " 1    1624\n",
              " 3     847\n",
              " 4     679\n",
              " Name: Employment, dtype: int64)"
            ]
          },
          "metadata": {},
          "execution_count": 19
        }
      ]
    },
    {
      "cell_type": "code",
      "source": [
        ""
      ],
      "metadata": {
        "id": "CH2wfQaQNruh"
      },
      "id": "CH2wfQaQNruh",
      "execution_count": null,
      "outputs": []
    }
  ]
}